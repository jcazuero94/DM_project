{
 "cells": [
  {
   "cell_type": "code",
   "execution_count": 26,
   "id": "6664f06a",
   "metadata": {},
   "outputs": [
    {
     "data": {
      "text/html": [
       "<pre style=\"white-space:pre;overflow-x:auto;line-height:normal;font-family:Menlo,'DejaVu Sans Mono',consolas,'Courier New',monospace\"><span style=\"font-weight: bold\">&lt;</span><span style=\"color: #ff00ff; text-decoration-color: #ff00ff; font-weight: bold\">IPython.core.display.Javascript</span><span style=\"color: #000000; text-decoration-color: #000000\"> object</span><span style=\"font-weight: bold\">&gt;</span>\n",
       "</pre>\n"
      ],
      "text/plain": [
       "\u001b[1m<\u001b[0m\u001b[1;95mIPython.core.display.Javascript\u001b[0m\u001b[39m object\u001b[0m\u001b[1m>\u001b[0m\n"
      ]
     },
     "metadata": {},
     "output_type": "display_data"
    },
    {
     "data": {
      "application/javascript": [
       "\n",
       "            setTimeout(function() {\n",
       "                var nbb_cell_id = 26;\n",
       "                var nbb_unformatted_code = \"import pandas as pd\\nimport numpy as np\\nimport json\\nimport matplotlib.pyplot as plt\\nfrom sodapy import Socrata\\nimport datetime\\n\\nfrom pyspark.sql import SparkSession\\nfrom pyspark.sql import SQLContext\";\n",
       "                var nbb_formatted_code = \"import pandas as pd\\nimport numpy as np\\nimport json\\nimport matplotlib.pyplot as plt\\nfrom sodapy import Socrata\\nimport datetime\\n\\nfrom pyspark.sql import SparkSession\\nfrom pyspark.sql import SQLContext\";\n",
       "                var nbb_cells = Jupyter.notebook.get_cells();\n",
       "                for (var i = 0; i < nbb_cells.length; ++i) {\n",
       "                    if (nbb_cells[i].input_prompt_number == nbb_cell_id) {\n",
       "                        if (nbb_cells[i].get_text() == nbb_unformatted_code) {\n",
       "                             nbb_cells[i].set_text(nbb_formatted_code);\n",
       "                        }\n",
       "                        break;\n",
       "                    }\n",
       "                }\n",
       "            }, 500);\n",
       "            "
      ]
     },
     "metadata": {},
     "output_type": "display_data"
    }
   ],
   "source": [
    "import pandas as pd\n",
    "import numpy as np\n",
    "import json\n",
    "import matplotlib.pyplot as plt\n",
    "from sodapy import Socrata\n",
    "import datetime\n",
    "\n",
    "from pyspark.sql import SparkSession\n",
    "from pyspark.sql import SQLContext"
   ]
  },
  {
   "cell_type": "code",
   "execution_count": 2,
   "id": "8a1d9003",
   "metadata": {},
   "outputs": [
    {
     "data": {
      "text/html": [
       "<pre style=\"white-space:pre;overflow-x:auto;line-height:normal;font-family:Menlo,'DejaVu Sans Mono',consolas,'Courier New',monospace\"><span style=\"font-weight: bold\">&lt;</span><span style=\"color: #ff00ff; text-decoration-color: #ff00ff; font-weight: bold\">IPython.core.display.Javascript</span><span style=\"color: #000000; text-decoration-color: #000000\"> object</span><span style=\"font-weight: bold\">&gt;</span>\n",
       "</pre>\n"
      ],
      "text/plain": [
       "\u001b[1m<\u001b[0m\u001b[1;95mIPython.core.display.Javascript\u001b[0m\u001b[39m object\u001b[0m\u001b[1m>\u001b[0m\n"
      ]
     },
     "metadata": {},
     "output_type": "display_data"
    },
    {
     "data": {
      "application/javascript": [
       "\n",
       "            setTimeout(function() {\n",
       "                var nbb_cell_id = 2;\n",
       "                var nbb_unformatted_code = \"%load_ext nb_black\\n%matplotlib inline\";\n",
       "                var nbb_formatted_code = \"%load_ext nb_black\\n%matplotlib inline\";\n",
       "                var nbb_cells = Jupyter.notebook.get_cells();\n",
       "                for (var i = 0; i < nbb_cells.length; ++i) {\n",
       "                    if (nbb_cells[i].input_prompt_number == nbb_cell_id) {\n",
       "                        if (nbb_cells[i].get_text() == nbb_unformatted_code) {\n",
       "                             nbb_cells[i].set_text(nbb_formatted_code);\n",
       "                        }\n",
       "                        break;\n",
       "                    }\n",
       "                }\n",
       "            }, 500);\n",
       "            "
      ]
     },
     "metadata": {},
     "output_type": "display_data"
    }
   ],
   "source": [
    "%load_ext nb_black\n",
    "%matplotlib inline\n"
   ]
  },
  {
   "cell_type": "code",
   "execution_count": 3,
   "id": "60e411ad",
   "metadata": {},
   "outputs": [
    {
     "data": {
      "text/html": [
       "<pre style=\"white-space:pre;overflow-x:auto;line-height:normal;font-family:Menlo,'DejaVu Sans Mono',consolas,'Courier New',monospace\"><span style=\"font-weight: bold\">&lt;</span><span style=\"color: #ff00ff; text-decoration-color: #ff00ff; font-weight: bold\">IPython.core.display.Javascript</span><span style=\"color: #000000; text-decoration-color: #000000\"> object</span><span style=\"font-weight: bold\">&gt;</span>\n",
       "</pre>\n"
      ],
      "text/plain": [
       "\u001b[1m<\u001b[0m\u001b[1;95mIPython.core.display.Javascript\u001b[0m\u001b[39m object\u001b[0m\u001b[1m>\u001b[0m\n"
      ]
     },
     "metadata": {},
     "output_type": "display_data"
    },
    {
     "data": {
      "application/javascript": [
       "\n",
       "            setTimeout(function() {\n",
       "                var nbb_cell_id = 3;\n",
       "                var nbb_unformatted_code = \"CODE_INTEGRATED = \\\"rpmr-utcd\\\"\\nCODE_SECOPII = \\\"p6dx-8zbt\\\"\";\n",
       "                var nbb_formatted_code = \"CODE_INTEGRATED = \\\"rpmr-utcd\\\"\\nCODE_SECOPII = \\\"p6dx-8zbt\\\"\";\n",
       "                var nbb_cells = Jupyter.notebook.get_cells();\n",
       "                for (var i = 0; i < nbb_cells.length; ++i) {\n",
       "                    if (nbb_cells[i].input_prompt_number == nbb_cell_id) {\n",
       "                        if (nbb_cells[i].get_text() == nbb_unformatted_code) {\n",
       "                             nbb_cells[i].set_text(nbb_formatted_code);\n",
       "                        }\n",
       "                        break;\n",
       "                    }\n",
       "                }\n",
       "            }, 500);\n",
       "            "
      ]
     },
     "metadata": {},
     "output_type": "display_data"
    }
   ],
   "source": [
    "CODE_INTEGRATED = \"rpmr-utcd\"\n",
    "CODE_SECOPII = \"p6dx-8zbt\"\n"
   ]
  },
  {
   "cell_type": "code",
   "execution_count": 5,
   "id": "f096a030",
   "metadata": {},
   "outputs": [
    {
     "data": {
      "text/html": [
       "<pre style=\"white-space:pre;overflow-x:auto;line-height:normal;font-family:Menlo,'DejaVu Sans Mono',consolas,'Courier New',monospace\"><span style=\"color: #7fbfbf; text-decoration-color: #7fbfbf\">[07/13/22 16:25:13] </span><span style=\"color: #800000; text-decoration-color: #800000\">WARNING </span> Requests made without an app_token will be subject to strict throttling  <a href=\"file:///opt/homebrew/Caskroom/miniforge/base/envs/dm_project/lib/python3.10/site-packages/sodapy/socrata.py\" target=\"_blank\"><span style=\"color: #7f7f7f; text-decoration-color: #7f7f7f\">socrata.py</span></a><span style=\"color: #7f7f7f; text-decoration-color: #7f7f7f\">:</span><a href=\"file:///opt/homebrew/Caskroom/miniforge/base/envs/dm_project/lib/python3.10/site-packages/sodapy/socrata.py#63\" target=\"_blank\"><span style=\"color: #7f7f7f; text-decoration-color: #7f7f7f\">63</span></a>\n",
       "<span style=\"color: #7fbfbf; text-decoration-color: #7fbfbf\">                    </span>         limits.                                                                  <span style=\"color: #7f7f7f; text-decoration-color: #7f7f7f\">             </span>\n",
       "</pre>\n"
      ],
      "text/plain": [
       "\u001b[2;36m[07/13/22 16:25:13]\u001b[0m\u001b[2;36m \u001b[0m\u001b[31mWARNING \u001b[0m Requests made without an app_token will be subject to strict throttling  \u001b]8;id=792682;file:///opt/homebrew/Caskroom/miniforge/base/envs/dm_project/lib/python3.10/site-packages/sodapy/socrata.py\u001b\\\u001b[2msocrata.py\u001b[0m\u001b]8;;\u001b\\\u001b[2m:\u001b[0m\u001b]8;id=1158;file:///opt/homebrew/Caskroom/miniforge/base/envs/dm_project/lib/python3.10/site-packages/sodapy/socrata.py#63\u001b\\\u001b[2m63\u001b[0m\u001b]8;;\u001b\\\n",
       "\u001b[2;36m                    \u001b[0m         limits.                                                                  \u001b[2m             \u001b[0m\n"
      ]
     },
     "metadata": {},
     "output_type": "display_data"
    },
    {
     "data": {
      "text/html": [
       "<pre style=\"white-space:pre;overflow-x:auto;line-height:normal;font-family:Menlo,'DejaVu Sans Mono',consolas,'Courier New',monospace\"><span style=\"font-weight: bold\">&lt;</span><span style=\"color: #ff00ff; text-decoration-color: #ff00ff; font-weight: bold\">IPython.core.display.Javascript</span><span style=\"color: #000000; text-decoration-color: #000000\"> object</span><span style=\"font-weight: bold\">&gt;</span>\n",
       "</pre>\n"
      ],
      "text/plain": [
       "\u001b[1m<\u001b[0m\u001b[1;95mIPython.core.display.Javascript\u001b[0m\u001b[39m object\u001b[0m\u001b[1m>\u001b[0m\n"
      ]
     },
     "metadata": {},
     "output_type": "display_data"
    },
    {
     "data": {
      "application/javascript": [
       "\n",
       "            setTimeout(function() {\n",
       "                var nbb_cell_id = 5;\n",
       "                var nbb_unformatted_code = \"client = Socrata(\\\"www.datos.gov.co\\\", None)\";\n",
       "                var nbb_formatted_code = \"client = Socrata(\\\"www.datos.gov.co\\\", None)\";\n",
       "                var nbb_cells = Jupyter.notebook.get_cells();\n",
       "                for (var i = 0; i < nbb_cells.length; ++i) {\n",
       "                    if (nbb_cells[i].input_prompt_number == nbb_cell_id) {\n",
       "                        if (nbb_cells[i].get_text() == nbb_unformatted_code) {\n",
       "                             nbb_cells[i].set_text(nbb_formatted_code);\n",
       "                        }\n",
       "                        break;\n",
       "                    }\n",
       "                }\n",
       "            }, 500);\n",
       "            "
      ]
     },
     "metadata": {},
     "output_type": "display_data"
    }
   ],
   "source": [
    "client = Socrata(\"www.datos.gov.co\", None)\n",
    "request = client.get(CODE_SECOPII, limit=1000, select=\"distinct nit_entidad\")\n",
    "nits_list = [x[\"nit_entidad\"] for x in request]\n",
    "{x: {\"req\": 0, \"date\": 0} for x in nits_list}"
   ]
  },
  {
   "cell_type": "code",
   "execution_count": 4,
   "id": "0f2b1672",
   "metadata": {},
   "outputs": [
    {
     "data": {
      "text/html": [
       "<pre style=\"white-space:pre;overflow-x:auto;line-height:normal;font-family:Menlo,'DejaVu Sans Mono',consolas,'Courier New',monospace\"><span style=\"color: #7fbfbf; text-decoration-color: #7fbfbf\">[07/13/22 17:03:33] </span><span style=\"color: #800000; text-decoration-color: #800000\">WARNING </span> Requests made without an app_token will be subject to strict throttling  <a href=\"file:///opt/homebrew/Caskroom/miniforge/base/envs/dm_project/lib/python3.10/site-packages/sodapy/socrata.py\" target=\"_blank\"><span style=\"color: #7f7f7f; text-decoration-color: #7f7f7f\">socrata.py</span></a><span style=\"color: #7f7f7f; text-decoration-color: #7f7f7f\">:</span><a href=\"file:///opt/homebrew/Caskroom/miniforge/base/envs/dm_project/lib/python3.10/site-packages/sodapy/socrata.py#63\" target=\"_blank\"><span style=\"color: #7f7f7f; text-decoration-color: #7f7f7f\">63</span></a>\n",
       "<span style=\"color: #7fbfbf; text-decoration-color: #7fbfbf\">                    </span>         limits.                                                                  <span style=\"color: #7f7f7f; text-decoration-color: #7f7f7f\">             </span>\n",
       "</pre>\n"
      ],
      "text/plain": [
       "\u001b[2;36m[07/13/22 17:03:33]\u001b[0m\u001b[2;36m \u001b[0m\u001b[31mWARNING \u001b[0m Requests made without an app_token will be subject to strict throttling  \u001b]8;id=203417;file:///opt/homebrew/Caskroom/miniforge/base/envs/dm_project/lib/python3.10/site-packages/sodapy/socrata.py\u001b\\\u001b[2msocrata.py\u001b[0m\u001b]8;;\u001b\\\u001b[2m:\u001b[0m\u001b]8;id=948425;file:///opt/homebrew/Caskroom/miniforge/base/envs/dm_project/lib/python3.10/site-packages/sodapy/socrata.py#63\u001b\\\u001b[2m63\u001b[0m\u001b]8;;\u001b\\\n",
       "\u001b[2;36m                    \u001b[0m         limits.                                                                  \u001b[2m             \u001b[0m\n"
      ]
     },
     "metadata": {},
     "output_type": "display_data"
    },
    {
     "data": {
      "text/html": [
       "<pre style=\"white-space:pre;overflow-x:auto;line-height:normal;font-family:Menlo,'DejaVu Sans Mono',consolas,'Courier New',monospace\"><span style=\"font-weight: bold\">&lt;</span><span style=\"color: #ff00ff; text-decoration-color: #ff00ff; font-weight: bold\">IPython.core.display.Javascript</span><span style=\"color: #000000; text-decoration-color: #000000\"> object</span><span style=\"font-weight: bold\">&gt;</span>\n",
       "</pre>\n"
      ],
      "text/plain": [
       "\u001b[1m<\u001b[0m\u001b[1;95mIPython.core.display.Javascript\u001b[0m\u001b[39m object\u001b[0m\u001b[1m>\u001b[0m\n"
      ]
     },
     "metadata": {},
     "output_type": "display_data"
    },
    {
     "data": {
      "application/javascript": [
       "\n",
       "            setTimeout(function() {\n",
       "                var nbb_cell_id = 4;\n",
       "                var nbb_unformatted_code = \"client = Socrata(\\\"www.datos.gov.co\\\", None)\";\n",
       "                var nbb_formatted_code = \"client = Socrata(\\\"www.datos.gov.co\\\", None)\";\n",
       "                var nbb_cells = Jupyter.notebook.get_cells();\n",
       "                for (var i = 0; i < nbb_cells.length; ++i) {\n",
       "                    if (nbb_cells[i].input_prompt_number == nbb_cell_id) {\n",
       "                        if (nbb_cells[i].get_text() == nbb_unformatted_code) {\n",
       "                             nbb_cells[i].set_text(nbb_formatted_code);\n",
       "                        }\n",
       "                        break;\n",
       "                    }\n",
       "                }\n",
       "            }, 500);\n",
       "            "
      ]
     },
     "metadata": {},
     "output_type": "display_data"
    }
   ],
   "source": [
    "client = Socrata(\"www.datos.gov.co\", None)"
   ]
  },
  {
   "cell_type": "code",
   "execution_count": 5,
   "id": "b90d5926",
   "metadata": {},
   "outputs": [
    {
     "data": {
      "text/html": [
       "<pre style=\"white-space:pre;overflow-x:auto;line-height:normal;font-family:Menlo,'DejaVu Sans Mono',consolas,'Courier New',monospace\"><span style=\"color: #7fbfbf; text-decoration-color: #7fbfbf\">[07/13/22 17:05:21] </span><span style=\"color: #000080; text-decoration-color: #000080\">INFO    </span> Loading data from <span style=\"color: #008000; text-decoration-color: #008000\">'secop2_log_in'</span> <span style=\"font-weight: bold\">(</span>JSONDataSet<span style=\"font-weight: bold\">)</span><span style=\"color: #808000; text-decoration-color: #808000\">...</span>                 <a href=\"file:///opt/homebrew/Caskroom/miniforge/base/envs/dm_project/lib/python3.10/site-packages/kedro/io/data_catalog.py\" target=\"_blank\"><span style=\"color: #7f7f7f; text-decoration-color: #7f7f7f\">data_catalog.py</span></a><span style=\"color: #7f7f7f; text-decoration-color: #7f7f7f\">:</span><a href=\"file:///opt/homebrew/Caskroom/miniforge/base/envs/dm_project/lib/python3.10/site-packages/kedro/io/data_catalog.py#343\" target=\"_blank\"><span style=\"color: #7f7f7f; text-decoration-color: #7f7f7f\">343</span></a>\n",
       "</pre>\n"
      ],
      "text/plain": [
       "\u001b[2;36m[07/13/22 17:05:21]\u001b[0m\u001b[2;36m \u001b[0m\u001b[34mINFO    \u001b[0m Loading data from \u001b[32m'secop2_log_in'\u001b[0m \u001b[1m(\u001b[0mJSONDataSet\u001b[1m)\u001b[0m\u001b[33m...\u001b[0m                 \u001b]8;id=508391;file:///opt/homebrew/Caskroom/miniforge/base/envs/dm_project/lib/python3.10/site-packages/kedro/io/data_catalog.py\u001b\\\u001b[2mdata_catalog.py\u001b[0m\u001b]8;;\u001b\\\u001b[2m:\u001b[0m\u001b]8;id=64419;file:///opt/homebrew/Caskroom/miniforge/base/envs/dm_project/lib/python3.10/site-packages/kedro/io/data_catalog.py#343\u001b\\\u001b[2m343\u001b[0m\u001b]8;;\u001b\\\n"
      ]
     },
     "metadata": {},
     "output_type": "display_data"
    },
    {
     "data": {
      "text/html": [
       "<pre style=\"white-space:pre;overflow-x:auto;line-height:normal;font-family:Menlo,'DejaVu Sans Mono',consolas,'Courier New',monospace\"><span style=\"font-weight: bold\">&lt;</span><span style=\"color: #ff00ff; text-decoration-color: #ff00ff; font-weight: bold\">IPython.core.display.Javascript</span><span style=\"color: #000000; text-decoration-color: #000000\"> object</span><span style=\"font-weight: bold\">&gt;</span>\n",
       "</pre>\n"
      ],
      "text/plain": [
       "\u001b[1m<\u001b[0m\u001b[1;95mIPython.core.display.Javascript\u001b[0m\u001b[39m object\u001b[0m\u001b[1m>\u001b[0m\n"
      ]
     },
     "metadata": {},
     "output_type": "display_data"
    },
    {
     "data": {
      "application/javascript": [
       "\n",
       "            setTimeout(function() {\n",
       "                var nbb_cell_id = 5;\n",
       "                var nbb_unformatted_code = \"secop2_log = catalog.load('secop2_log_in')\";\n",
       "                var nbb_formatted_code = \"secop2_log = catalog.load(\\\"secop2_log_in\\\")\";\n",
       "                var nbb_cells = Jupyter.notebook.get_cells();\n",
       "                for (var i = 0; i < nbb_cells.length; ++i) {\n",
       "                    if (nbb_cells[i].input_prompt_number == nbb_cell_id) {\n",
       "                        if (nbb_cells[i].get_text() == nbb_unformatted_code) {\n",
       "                             nbb_cells[i].set_text(nbb_formatted_code);\n",
       "                        }\n",
       "                        break;\n",
       "                    }\n",
       "                }\n",
       "            }, 500);\n",
       "            "
      ]
     },
     "metadata": {},
     "output_type": "display_data"
    }
   ],
   "source": [
    "secop2_log = catalog.load('secop2_log_in')"
   ]
  },
  {
   "cell_type": "code",
   "execution_count": 8,
   "id": "cfb5edd8",
   "metadata": {},
   "outputs": [
    {
     "data": {
      "text/html": [
       "<pre style=\"white-space:pre;overflow-x:auto;line-height:normal;font-family:Menlo,'DejaVu Sans Mono',consolas,'Courier New',monospace\"><span style=\"font-weight: bold\">&lt;</span><span style=\"color: #ff00ff; text-decoration-color: #ff00ff; font-weight: bold\">IPython.core.display.Javascript</span><span style=\"color: #000000; text-decoration-color: #000000\"> object</span><span style=\"font-weight: bold\">&gt;</span>\n",
       "</pre>\n"
      ],
      "text/plain": [
       "\u001b[1m<\u001b[0m\u001b[1;95mIPython.core.display.Javascript\u001b[0m\u001b[39m object\u001b[0m\u001b[1m>\u001b[0m\n"
      ]
     },
     "metadata": {},
     "output_type": "display_data"
    },
    {
     "data": {
      "application/javascript": [
       "\n",
       "            setTimeout(function() {\n",
       "                var nbb_cell_id = 8;\n",
       "                var nbb_unformatted_code = \"nits_to_extract = [k for k in secop2_log.keys() if secop2_log[k][\\\"req\\\"] == 0]\";\n",
       "                var nbb_formatted_code = \"nits_to_extract = [k for k in secop2_log.keys() if secop2_log[k][\\\"req\\\"] == 0]\";\n",
       "                var nbb_cells = Jupyter.notebook.get_cells();\n",
       "                for (var i = 0; i < nbb_cells.length; ++i) {\n",
       "                    if (nbb_cells[i].input_prompt_number == nbb_cell_id) {\n",
       "                        if (nbb_cells[i].get_text() == nbb_unformatted_code) {\n",
       "                             nbb_cells[i].set_text(nbb_formatted_code);\n",
       "                        }\n",
       "                        break;\n",
       "                    }\n",
       "                }\n",
       "            }, 500);\n",
       "            "
      ]
     },
     "metadata": {},
     "output_type": "display_data"
    }
   ],
   "source": []
  },
  {
   "cell_type": "code",
   "execution_count": 10,
   "id": "5edcfd10",
   "metadata": {},
   "outputs": [
    {
     "data": {
      "text/html": [
       "<pre style=\"white-space:pre;overflow-x:auto;line-height:normal;font-family:Menlo,'DejaVu Sans Mono',consolas,'Courier New',monospace\"><span style=\"font-weight: bold\">&lt;</span><span style=\"color: #ff00ff; text-decoration-color: #ff00ff; font-weight: bold\">IPython.core.display.Javascript</span><span style=\"color: #000000; text-decoration-color: #000000\"> object</span><span style=\"font-weight: bold\">&gt;</span>\n",
       "</pre>\n"
      ],
      "text/plain": [
       "\u001b[1m<\u001b[0m\u001b[1;95mIPython.core.display.Javascript\u001b[0m\u001b[39m object\u001b[0m\u001b[1m>\u001b[0m\n"
      ]
     },
     "metadata": {},
     "output_type": "display_data"
    },
    {
     "data": {
      "application/javascript": [
       "\n",
       "            setTimeout(function() {\n",
       "                var nbb_cell_id = 10;\n",
       "                var nbb_unformatted_code = \"list_dates = [(secop2_log[k][\\\"date\\\"], k) for k in secop2_log.keys()]\";\n",
       "                var nbb_formatted_code = \"list_dates = [(secop2_log[k][\\\"date\\\"], k) for k in secop2_log.keys()]\";\n",
       "                var nbb_cells = Jupyter.notebook.get_cells();\n",
       "                for (var i = 0; i < nbb_cells.length; ++i) {\n",
       "                    if (nbb_cells[i].input_prompt_number == nbb_cell_id) {\n",
       "                        if (nbb_cells[i].get_text() == nbb_unformatted_code) {\n",
       "                             nbb_cells[i].set_text(nbb_formatted_code);\n",
       "                        }\n",
       "                        break;\n",
       "                    }\n",
       "                }\n",
       "            }, 500);\n",
       "            "
      ]
     },
     "metadata": {},
     "output_type": "display_data"
    }
   ],
   "source": []
  },
  {
   "cell_type": "code",
   "execution_count": 11,
   "id": "a39f0158",
   "metadata": {},
   "outputs": [
    {
     "data": {
      "text/html": [
       "<pre style=\"white-space:pre;overflow-x:auto;line-height:normal;font-family:Menlo,'DejaVu Sans Mono',consolas,'Courier New',monospace\"><span style=\"font-weight: bold\">&lt;</span><span style=\"color: #ff00ff; text-decoration-color: #ff00ff; font-weight: bold\">IPython.core.display.Javascript</span><span style=\"color: #000000; text-decoration-color: #000000\"> object</span><span style=\"font-weight: bold\">&gt;</span>\n",
       "</pre>\n"
      ],
      "text/plain": [
       "\u001b[1m<\u001b[0m\u001b[1;95mIPython.core.display.Javascript\u001b[0m\u001b[39m object\u001b[0m\u001b[1m>\u001b[0m\n"
      ]
     },
     "metadata": {},
     "output_type": "display_data"
    },
    {
     "data": {
      "application/javascript": [
       "\n",
       "            setTimeout(function() {\n",
       "                var nbb_cell_id = 11;\n",
       "                var nbb_unformatted_code = \"list_dates.sort()\";\n",
       "                var nbb_formatted_code = \"list_dates.sort()\";\n",
       "                var nbb_cells = Jupyter.notebook.get_cells();\n",
       "                for (var i = 0; i < nbb_cells.length; ++i) {\n",
       "                    if (nbb_cells[i].input_prompt_number == nbb_cell_id) {\n",
       "                        if (nbb_cells[i].get_text() == nbb_unformatted_code) {\n",
       "                             nbb_cells[i].set_text(nbb_formatted_code);\n",
       "                        }\n",
       "                        break;\n",
       "                    }\n",
       "                }\n",
       "            }, 500);\n",
       "            "
      ]
     },
     "metadata": {},
     "output_type": "display_data"
    }
   ],
   "source": []
  },
  {
   "cell_type": "code",
   "execution_count": 13,
   "id": "a935d8ee",
   "metadata": {},
   "outputs": [
    {
     "data": {
      "text/html": [
       "<pre style=\"white-space:pre;overflow-x:auto;line-height:normal;font-family:Menlo,'DejaVu Sans Mono',consolas,'Courier New',monospace\"><span style=\"color: #008000; text-decoration-color: #008000\">'000000001'</span>\n",
       "</pre>\n"
      ],
      "text/plain": [
       "\u001b[32m'000000001'\u001b[0m\n"
      ]
     },
     "metadata": {},
     "output_type": "display_data"
    },
    {
     "data": {
      "text/html": [
       "<pre style=\"white-space:pre;overflow-x:auto;line-height:normal;font-family:Menlo,'DejaVu Sans Mono',consolas,'Courier New',monospace\"><span style=\"font-weight: bold\">&lt;</span><span style=\"color: #ff00ff; text-decoration-color: #ff00ff; font-weight: bold\">IPython.core.display.Javascript</span><span style=\"color: #000000; text-decoration-color: #000000\"> object</span><span style=\"font-weight: bold\">&gt;</span>\n",
       "</pre>\n"
      ],
      "text/plain": [
       "\u001b[1m<\u001b[0m\u001b[1;95mIPython.core.display.Javascript\u001b[0m\u001b[39m object\u001b[0m\u001b[1m>\u001b[0m\n"
      ]
     },
     "metadata": {},
     "output_type": "display_data"
    },
    {
     "data": {
      "application/javascript": [
       "\n",
       "            setTimeout(function() {\n",
       "                var nbb_cell_id = 13;\n",
       "                var nbb_unformatted_code = \"list_dates[0][1]\";\n",
       "                var nbb_formatted_code = \"list_dates[0][1]\";\n",
       "                var nbb_cells = Jupyter.notebook.get_cells();\n",
       "                for (var i = 0; i < nbb_cells.length; ++i) {\n",
       "                    if (nbb_cells[i].input_prompt_number == nbb_cell_id) {\n",
       "                        if (nbb_cells[i].get_text() == nbb_unformatted_code) {\n",
       "                             nbb_cells[i].set_text(nbb_formatted_code);\n",
       "                        }\n",
       "                        break;\n",
       "                    }\n",
       "                }\n",
       "            }, 500);\n",
       "            "
      ]
     },
     "metadata": {},
     "output_type": "display_data"
    }
   ],
   "source": []
  },
  {
   "cell_type": "code",
   "execution_count": 14,
   "id": "315cc10f",
   "metadata": {},
   "outputs": [
    {
     "data": {
      "text/html": [
       "<pre style=\"white-space:pre;overflow-x:auto;line-height:normal;font-family:Menlo,'DejaVu Sans Mono',consolas,'Courier New',monospace\"><span style=\"font-weight: bold\">&lt;</span><span style=\"color: #ff00ff; text-decoration-color: #ff00ff; font-weight: bold\">IPython.core.display.Javascript</span><span style=\"color: #000000; text-decoration-color: #000000\"> object</span><span style=\"font-weight: bold\">&gt;</span>\n",
       "</pre>\n"
      ],
      "text/plain": [
       "\u001b[1m<\u001b[0m\u001b[1;95mIPython.core.display.Javascript\u001b[0m\u001b[39m object\u001b[0m\u001b[1m>\u001b[0m\n"
      ]
     },
     "metadata": {},
     "output_type": "display_data"
    },
    {
     "data": {
      "application/javascript": [
       "\n",
       "            setTimeout(function() {\n",
       "                var nbb_cell_id = 14;\n",
       "                var nbb_unformatted_code = \"if len(nits_to_extract) > 0:\\n    nit_to_extract = nits_to_extract[0]\\nelse:\\n    list_dates = [(secop2_log[k][\\\"date\\\"], k) for k in secop2_log.keys()]\\n    list_dates.sort()\\n    nit_to_extract = list_dates[0][1]\";\n",
       "                var nbb_formatted_code = \"if len(nits_to_extract) > 0:\\n    nit_to_extract = nits_to_extract[0]\\nelse:\\n    list_dates = [(secop2_log[k][\\\"date\\\"], k) for k in secop2_log.keys()]\\n    list_dates.sort()\\n    nit_to_extract = list_dates[0][1]\";\n",
       "                var nbb_cells = Jupyter.notebook.get_cells();\n",
       "                for (var i = 0; i < nbb_cells.length; ++i) {\n",
       "                    if (nbb_cells[i].input_prompt_number == nbb_cell_id) {\n",
       "                        if (nbb_cells[i].get_text() == nbb_unformatted_code) {\n",
       "                             nbb_cells[i].set_text(nbb_formatted_code);\n",
       "                        }\n",
       "                        break;\n",
       "                    }\n",
       "                }\n",
       "            }, 500);\n",
       "            "
      ]
     },
     "metadata": {},
     "output_type": "display_data"
    }
   ],
   "source": []
  },
  {
   "cell_type": "code",
   "execution_count": 20,
   "id": "ba4e06d8",
   "metadata": {
    "scrolled": false
   },
   "outputs": [
    {
     "data": {
      "text/html": [
       "<pre style=\"white-space:pre;overflow-x:auto;line-height:normal;font-family:Menlo,'DejaVu Sans Mono',consolas,'Courier New',monospace\"><span style=\"color: #7fbfbf; text-decoration-color: #7fbfbf\">[07/13/22 17:14:12] </span><span style=\"color: #800000; text-decoration-color: #800000\">WARNING </span> Requests made without an app_token will be subject to strict throttling  <a href=\"file:///opt/homebrew/Caskroom/miniforge/base/envs/dm_project/lib/python3.10/site-packages/sodapy/socrata.py\" target=\"_blank\"><span style=\"color: #7f7f7f; text-decoration-color: #7f7f7f\">socrata.py</span></a><span style=\"color: #7f7f7f; text-decoration-color: #7f7f7f\">:</span><a href=\"file:///opt/homebrew/Caskroom/miniforge/base/envs/dm_project/lib/python3.10/site-packages/sodapy/socrata.py#63\" target=\"_blank\"><span style=\"color: #7f7f7f; text-decoration-color: #7f7f7f\">63</span></a>\n",
       "<span style=\"color: #7fbfbf; text-decoration-color: #7fbfbf\">                    </span>         limits.                                                                  <span style=\"color: #7f7f7f; text-decoration-color: #7f7f7f\">             </span>\n",
       "</pre>\n"
      ],
      "text/plain": [
       "\u001b[2;36m[07/13/22 17:14:12]\u001b[0m\u001b[2;36m \u001b[0m\u001b[31mWARNING \u001b[0m Requests made without an app_token will be subject to strict throttling  \u001b]8;id=934206;file:///opt/homebrew/Caskroom/miniforge/base/envs/dm_project/lib/python3.10/site-packages/sodapy/socrata.py\u001b\\\u001b[2msocrata.py\u001b[0m\u001b]8;;\u001b\\\u001b[2m:\u001b[0m\u001b]8;id=152846;file:///opt/homebrew/Caskroom/miniforge/base/envs/dm_project/lib/python3.10/site-packages/sodapy/socrata.py#63\u001b\\\u001b[2m63\u001b[0m\u001b]8;;\u001b\\\n",
       "\u001b[2;36m                    \u001b[0m         limits.                                                                  \u001b[2m             \u001b[0m\n"
      ]
     },
     "metadata": {},
     "output_type": "display_data"
    },
    {
     "name": "stdout",
     "output_type": "stream",
     "text": [
      "req - 0 - 2022-07-13 17:14:12.366154\n",
      "req - 2000 - 2022-07-13 17:14:13.784813\n"
     ]
    },
    {
     "data": {
      "text/html": [
       "<pre style=\"white-space:pre;overflow-x:auto;line-height:normal;font-family:Menlo,'DejaVu Sans Mono',consolas,'Courier New',monospace\"><span style=\"font-weight: bold\">&lt;</span><span style=\"color: #ff00ff; text-decoration-color: #ff00ff; font-weight: bold\">IPython.core.display.Javascript</span><span style=\"color: #000000; text-decoration-color: #000000\"> object</span><span style=\"font-weight: bold\">&gt;</span>\n",
       "</pre>\n"
      ],
      "text/plain": [
       "\u001b[1m<\u001b[0m\u001b[1;95mIPython.core.display.Javascript\u001b[0m\u001b[39m object\u001b[0m\u001b[1m>\u001b[0m\n"
      ]
     },
     "metadata": {},
     "output_type": "display_data"
    },
    {
     "data": {
      "application/javascript": [
       "\n",
       "            setTimeout(function() {\n",
       "                var nbb_cell_id = 20;\n",
       "                var nbb_unformatted_code = \"client = Socrata(\\\"www.datos.gov.co\\\", None)\\nlim = 2000\\noffset = lim\\nprint(f\\\"req - {offset-lim} - {datetime.datetime.now()}\\\")\\nrequest = client.get(CODE_SECOPII, limit=lim, where='nit_entidad = \\\"' + nit_to_extract+'\\\"')\\nrequest_df = pd.DataFrame.from_records(request)\\nresults_df = request_df.copy()\\nwhile len(request_df) > 0:\\n    print(f\\\"req - {offset} - {datetime.datetime.now()}\\\")\\n    request = client.get(\\n        CODE_SECOPII, limit=lim, offset=offset, where='nit_entidad = \\\"' + nit_to_extract+'\\\"'\\n    )\\n    request_df = pd.DataFrame.from_records(request)\\n    results_df = pd.concat([results_df, request_df], ignore_index=True)\\n    offset += lim\";\n",
       "                var nbb_formatted_code = \"client = Socrata(\\\"www.datos.gov.co\\\", None)\\nlim = 2000\\noffset = lim\\nprint(f\\\"req - {offset-lim} - {datetime.datetime.now()}\\\")\\nrequest = client.get(\\n    CODE_SECOPII, limit=lim, where='nit_entidad = \\\"' + nit_to_extract + '\\\"'\\n)\\nrequest_df = pd.DataFrame.from_records(request)\\nresults_df = request_df.copy()\\nwhile len(request_df) > 0:\\n    print(f\\\"req - {offset} - {datetime.datetime.now()}\\\")\\n    request = client.get(\\n        CODE_SECOPII,\\n        limit=lim,\\n        offset=offset,\\n        where='nit_entidad = \\\"' + nit_to_extract + '\\\"',\\n    )\\n    request_df = pd.DataFrame.from_records(request)\\n    results_df = pd.concat([results_df, request_df], ignore_index=True)\\n    offset += lim\";\n",
       "                var nbb_cells = Jupyter.notebook.get_cells();\n",
       "                for (var i = 0; i < nbb_cells.length; ++i) {\n",
       "                    if (nbb_cells[i].input_prompt_number == nbb_cell_id) {\n",
       "                        if (nbb_cells[i].get_text() == nbb_unformatted_code) {\n",
       "                             nbb_cells[i].set_text(nbb_formatted_code);\n",
       "                        }\n",
       "                        break;\n",
       "                    }\n",
       "                }\n",
       "            }, 500);\n",
       "            "
      ]
     },
     "metadata": {},
     "output_type": "display_data"
    }
   ],
   "source": [
    "nits_to_extract = [k for k in secop2_log.keys() if secop2_log[k][\"req\"] == 0]\n",
    "if len(nits_to_extract) > 0:\n",
    "    nit_to_extract = nits_to_extract[0]\n",
    "else:\n",
    "    list_dates = [(secop2_log[k][\"date\"], k) for k in secop2_log.keys()]\n",
    "    list_dates.sort()\n",
    "    nit_to_extract = list_dates[0][1]\n",
    "client = Socrata(\"www.datos.gov.co\", None)\n",
    "lim = 2000\n",
    "offset = lim\n",
    "print(f\"req - {offset-lim} - {datetime.datetime.now()}\")\n",
    "request = client.get(\n",
    "    CODE_SECOPII, limit=lim, where='nit_entidad = \"' + nit_to_extract + '\"'\n",
    ")\n",
    "request_df = pd.DataFrame.from_records(request)\n",
    "results_df = request_df.copy()\n",
    "while len(request_df) > 0:\n",
    "    print(f\"req - {offset} - {datetime.datetime.now()}\")\n",
    "    request = client.get(\n",
    "        CODE_SECOPII,\n",
    "        limit=lim,\n",
    "        offset=offset,\n",
    "        where='nit_entidad = \"' + nit_to_extract + '\"',\n",
    "    )\n",
    "    request_df = pd.DataFrame.from_records(request)\n",
    "    results_df = pd.concat([results_df, request_df], ignore_index=True)\n",
    "    offset += lim\n",
    "    \n",
    "secop2_log[nit_to_extract][\"req\"] = 1\n",
    "secop2_log[nit_to_extract][\"date\"] = str(datetime.datetime.now())\n",
    "spark = SparkSession.builder.getOrCreate()\n",
    "sql_ctx = SQLContext(spark.sparkContext)\n",
    "#return secop2_log, sql_ctx.createDataFrame(results_df)"
   ]
  },
  {
   "cell_type": "code",
   "execution_count": 24,
   "id": "da6d51b2",
   "metadata": {},
   "outputs": [
    {
     "data": {
      "text/html": [
       "<pre style=\"white-space:pre;overflow-x:auto;line-height:normal;font-family:Menlo,'DejaVu Sans Mono',consolas,'Courier New',monospace\"><span style=\"font-weight: bold\">&lt;</span><span style=\"color: #ff00ff; text-decoration-color: #ff00ff; font-weight: bold\">IPython.core.display.Javascript</span><span style=\"color: #000000; text-decoration-color: #000000\"> object</span><span style=\"font-weight: bold\">&gt;</span>\n",
       "</pre>\n"
      ],
      "text/plain": [
       "\u001b[1m<\u001b[0m\u001b[1;95mIPython.core.display.Javascript\u001b[0m\u001b[39m object\u001b[0m\u001b[1m>\u001b[0m\n"
      ]
     },
     "metadata": {},
     "output_type": "display_data"
    },
    {
     "data": {
      "application/javascript": [
       "\n",
       "            setTimeout(function() {\n",
       "                var nbb_cell_id = 24;\n",
       "                var nbb_unformatted_code = \"secop2_log[nit_to_extract]['req']=1\\nsecop2_log[nit_to_extract]['date']=str(datetime.datetime.now())\";\n",
       "                var nbb_formatted_code = \"secop2_log[nit_to_extract][\\\"req\\\"] = 1\\nsecop2_log[nit_to_extract][\\\"date\\\"] = str(datetime.datetime.now())\";\n",
       "                var nbb_cells = Jupyter.notebook.get_cells();\n",
       "                for (var i = 0; i < nbb_cells.length; ++i) {\n",
       "                    if (nbb_cells[i].input_prompt_number == nbb_cell_id) {\n",
       "                        if (nbb_cells[i].get_text() == nbb_unformatted_code) {\n",
       "                             nbb_cells[i].set_text(nbb_formatted_code);\n",
       "                        }\n",
       "                        break;\n",
       "                    }\n",
       "                }\n",
       "            }, 500);\n",
       "            "
      ]
     },
     "metadata": {},
     "output_type": "display_data"
    }
   ],
   "source": []
  },
  {
   "cell_type": "code",
   "execution_count": 36,
   "id": "df6208f0",
   "metadata": {},
   "outputs": [
    {
     "data": {
      "text/html": [
       "<pre style=\"white-space:pre;overflow-x:auto;line-height:normal;font-family:Menlo,'DejaVu Sans Mono',consolas,'Courier New',monospace\"><span style=\"font-weight: bold\">&lt;</span><span style=\"color: #ff00ff; text-decoration-color: #ff00ff; font-weight: bold\">IPython.core.display.Javascript</span><span style=\"color: #000000; text-decoration-color: #000000\"> object</span><span style=\"font-weight: bold\">&gt;</span>\n",
       "</pre>\n"
      ],
      "text/plain": [
       "\u001b[1m<\u001b[0m\u001b[1;95mIPython.core.display.Javascript\u001b[0m\u001b[39m object\u001b[0m\u001b[1m>\u001b[0m\n"
      ]
     },
     "metadata": {},
     "output_type": "display_data"
    },
    {
     "data": {
      "application/javascript": [
       "\n",
       "            setTimeout(function() {\n",
       "                var nbb_cell_id = 36;\n",
       "                var nbb_unformatted_code = \"results_df[[c for c in results_df.columns if \\\"fecha\\\" in c]] = results_df[[c for c in results_df.columns if \\\"fecha\\\" in c]].fillna(\\\"\\\")\";\n",
       "                var nbb_formatted_code = \"results_df[[c for c in results_df.columns if \\\"fecha\\\" in c]] = results_df[\\n    [c for c in results_df.columns if \\\"fecha\\\" in c]\\n].fillna(\\\"\\\")\";\n",
       "                var nbb_cells = Jupyter.notebook.get_cells();\n",
       "                for (var i = 0; i < nbb_cells.length; ++i) {\n",
       "                    if (nbb_cells[i].input_prompt_number == nbb_cell_id) {\n",
       "                        if (nbb_cells[i].get_text() == nbb_unformatted_code) {\n",
       "                             nbb_cells[i].set_text(nbb_formatted_code);\n",
       "                        }\n",
       "                        break;\n",
       "                    }\n",
       "                }\n",
       "            }, 500);\n",
       "            "
      ]
     },
     "metadata": {},
     "output_type": "display_data"
    }
   ],
   "source": [
    "results_df[[c for c in results_df.columns if \"fecha\" in c]] = results_df[\n",
    "    [c for c in results_df.columns if \"fecha\" in c]\n",
    "].fillna(\"\")"
   ]
  },
  {
   "cell_type": "code",
   "execution_count": 29,
   "id": "6e5a1258",
   "metadata": {
    "scrolled": true
   },
   "outputs": [
    {
     "data": {
      "text/html": [
       "<pre style=\"white-space:pre;overflow-x:auto;line-height:normal;font-family:Menlo,'DejaVu Sans Mono',consolas,'Courier New',monospace\">\n",
       "<span style=\"color: #008080; text-decoration-color: #008080; font-weight: bold\">0</span>                           \n",
       "<span style=\"color: #008080; text-decoration-color: #008080; font-weight: bold\">1</span>                           \n",
       "<span style=\"color: #008080; text-decoration-color: #008080; font-weight: bold\">2</span>    <span style=\"color: #008080; text-decoration-color: #008080; font-weight: bold\">2021</span>-<span style=\"color: #008080; text-decoration-color: #008080; font-weight: bold\">04</span>-26T<span style=\"color: #00ff00; text-decoration-color: #00ff00; font-weight: bold\">00:00:00</span>.<span style=\"color: #008080; text-decoration-color: #008080; font-weight: bold\">000</span>\n",
       "<span style=\"color: #008080; text-decoration-color: #008080; font-weight: bold\">3</span>    <span style=\"color: #008080; text-decoration-color: #008080; font-weight: bold\">2021</span>-<span style=\"color: #008080; text-decoration-color: #008080; font-weight: bold\">04</span>-27T<span style=\"color: #00ff00; text-decoration-color: #00ff00; font-weight: bold\">00:00:00</span>.<span style=\"color: #008080; text-decoration-color: #008080; font-weight: bold\">000</span>\n",
       "Name: fecha_de_publicacion_del, dtype: object\n",
       "</pre>\n"
      ],
      "text/plain": [
       "\n",
       "\u001b[1;36m0\u001b[0m                           \n",
       "\u001b[1;36m1\u001b[0m                           \n",
       "\u001b[1;36m2\u001b[0m    \u001b[1;36m2021\u001b[0m-\u001b[1;36m04\u001b[0m-26T\u001b[1;92m00:00:00\u001b[0m.\u001b[1;36m000\u001b[0m\n",
       "\u001b[1;36m3\u001b[0m    \u001b[1;36m2021\u001b[0m-\u001b[1;36m04\u001b[0m-27T\u001b[1;92m00:00:00\u001b[0m.\u001b[1;36m000\u001b[0m\n",
       "Name: fecha_de_publicacion_del, dtype: object\n"
      ]
     },
     "metadata": {},
     "output_type": "display_data"
    },
    {
     "data": {
      "text/html": [
       "<pre style=\"white-space:pre;overflow-x:auto;line-height:normal;font-family:Menlo,'DejaVu Sans Mono',consolas,'Courier New',monospace\"><span style=\"font-weight: bold\">&lt;</span><span style=\"color: #ff00ff; text-decoration-color: #ff00ff; font-weight: bold\">IPython.core.display.Javascript</span><span style=\"color: #000000; text-decoration-color: #000000\"> object</span><span style=\"font-weight: bold\">&gt;</span>\n",
       "</pre>\n"
      ],
      "text/plain": [
       "\u001b[1m<\u001b[0m\u001b[1;95mIPython.core.display.Javascript\u001b[0m\u001b[39m object\u001b[0m\u001b[1m>\u001b[0m\n"
      ]
     },
     "metadata": {},
     "output_type": "display_data"
    },
    {
     "data": {
      "application/javascript": [
       "\n",
       "            setTimeout(function() {\n",
       "                var nbb_cell_id = 29;\n",
       "                var nbb_unformatted_code = \"results_df[\\\"fecha_de_publicacion_del\\\"].fillna('')\";\n",
       "                var nbb_formatted_code = \"results_df[\\\"fecha_de_publicacion_del\\\"].fillna(\\\"\\\")\";\n",
       "                var nbb_cells = Jupyter.notebook.get_cells();\n",
       "                for (var i = 0; i < nbb_cells.length; ++i) {\n",
       "                    if (nbb_cells[i].input_prompt_number == nbb_cell_id) {\n",
       "                        if (nbb_cells[i].get_text() == nbb_unformatted_code) {\n",
       "                             nbb_cells[i].set_text(nbb_formatted_code);\n",
       "                        }\n",
       "                        break;\n",
       "                    }\n",
       "                }\n",
       "            }, 500);\n",
       "            "
      ]
     },
     "metadata": {},
     "output_type": "display_data"
    }
   ],
   "source": [
    "results_df[\"fecha_de_publicacion_del\"].fillna(\"\")"
   ]
  },
  {
   "cell_type": "code",
   "execution_count": 41,
   "id": "b6ade69b",
   "metadata": {},
   "outputs": [
    {
     "data": {
      "text/html": [
       "<pre style=\"white-space:pre;overflow-x:auto;line-height:normal;font-family:Menlo,'DejaVu Sans Mono',consolas,'Courier New',monospace\">\n",
       "<span style=\"color: #800080; text-decoration-color: #800080; font-weight: bold\">Index</span><span style=\"font-weight: bold\">([</span><span style=\"color: #008000; text-decoration-color: #008000\">'entidad'</span>, <span style=\"color: #008000; text-decoration-color: #008000\">'nit_entidad'</span>, <span style=\"color: #008000; text-decoration-color: #008000\">'departamento_entidad'</span>, <span style=\"color: #008000; text-decoration-color: #008000\">'ciudad_entidad'</span>,\n",
       "       <span style=\"color: #008000; text-decoration-color: #008000\">'ordenentidad'</span>, <span style=\"color: #008000; text-decoration-color: #008000\">'codigo_pci'</span>, <span style=\"color: #008000; text-decoration-color: #008000\">'id_del_proceso'</span>,\n",
       "       <span style=\"color: #008000; text-decoration-color: #008000\">'referencia_del_proceso'</span>, <span style=\"color: #008000; text-decoration-color: #008000\">'ppi'</span>, <span style=\"color: #008000; text-decoration-color: #008000\">'id_del_portafolio'</span>,\n",
       "       <span style=\"color: #008000; text-decoration-color: #008000\">'nombre_del_procedimiento'</span>, <span style=\"color: #008000; text-decoration-color: #008000\">'descripci_n_del_procedimiento'</span>, <span style=\"color: #008000; text-decoration-color: #008000\">'fase'</span>,\n",
       "       <span style=\"color: #008000; text-decoration-color: #008000\">'precio_base'</span>, <span style=\"color: #008000; text-decoration-color: #008000\">'modalidad_de_contratacion'</span>,\n",
       "       <span style=\"color: #008000; text-decoration-color: #008000\">'justificaci_n_modalidad_de'</span>, <span style=\"color: #008000; text-decoration-color: #008000\">'duracion'</span>, <span style=\"color: #008000; text-decoration-color: #008000\">'unidad_de_duracion'</span>,\n",
       "       <span style=\"color: #008000; text-decoration-color: #008000\">'ciudad_de_la_unidad_de'</span>, <span style=\"color: #008000; text-decoration-color: #008000\">'nombre_de_la_unidad_de'</span>,\n",
       "       <span style=\"color: #008000; text-decoration-color: #008000\">'proveedores_invitados'</span>, <span style=\"color: #008000; text-decoration-color: #008000\">'proveedores_con_invitacion'</span>,\n",
       "       <span style=\"color: #008000; text-decoration-color: #008000\">'visualizaciones_del'</span>, <span style=\"color: #008000; text-decoration-color: #008000\">'proveedores_que_manifestaron'</span>,\n",
       "       <span style=\"color: #008000; text-decoration-color: #008000\">'respuestas_al_procedimiento'</span>, <span style=\"color: #008000; text-decoration-color: #008000\">'respuestas_externas'</span>,\n",
       "       <span style=\"color: #008000; text-decoration-color: #008000\">'conteo_de_respuestas_a_ofertas'</span>, <span style=\"color: #008000; text-decoration-color: #008000\">'proveedores_unicos_con'</span>,\n",
       "       <span style=\"color: #008000; text-decoration-color: #008000\">'numero_de_lotes'</span>, <span style=\"color: #008000; text-decoration-color: #008000\">'estado_del_procedimiento'</span>,\n",
       "       <span style=\"color: #008000; text-decoration-color: #008000\">'id_estado_del_procedimiento'</span>, <span style=\"color: #008000; text-decoration-color: #008000\">'adjudicado'</span>, <span style=\"color: #008000; text-decoration-color: #008000\">'id_adjudicacion'</span>,\n",
       "       <span style=\"color: #008000; text-decoration-color: #008000\">'codigoproveedor'</span>, <span style=\"color: #008000; text-decoration-color: #008000\">'departamento_proveedor'</span>, <span style=\"color: #008000; text-decoration-color: #008000\">'ciudad_proveedor'</span>,\n",
       "       <span style=\"color: #008000; text-decoration-color: #008000\">'valor_total_adjudicacion'</span>, <span style=\"color: #008000; text-decoration-color: #008000\">'nombre_del_adjudicador'</span>,\n",
       "       <span style=\"color: #008000; text-decoration-color: #008000\">'nombre_del_proveedor'</span>, <span style=\"color: #008000; text-decoration-color: #008000\">'nit_del_proveedor_adjudicado'</span>,\n",
       "       <span style=\"color: #008000; text-decoration-color: #008000\">'codigo_principal_de_categoria'</span>, <span style=\"color: #008000; text-decoration-color: #008000\">'estado_de_apertura_del_proceso'</span>,\n",
       "       <span style=\"color: #008000; text-decoration-color: #008000\">'tipo_de_contrato'</span>, <span style=\"color: #008000; text-decoration-color: #008000\">'subtipo_de_contrato'</span>, <span style=\"color: #008000; text-decoration-color: #008000\">'categorias_adicionales'</span>,\n",
       "       <span style=\"color: #008000; text-decoration-color: #008000\">'codigo_entidad'</span>, <span style=\"color: #008000; text-decoration-color: #008000\">'estadoresumen'</span>, <span style=\"color: #008000; text-decoration-color: #008000\">'fecha_de_publicacion_del'</span>,\n",
       "       <span style=\"color: #008000; text-decoration-color: #008000\">'fecha_de_ultima_publicaci'</span>, <span style=\"color: #008000; text-decoration-color: #008000\">'fecha_de_publicacion_fase_3'</span>,\n",
       "       <span style=\"color: #008000; text-decoration-color: #008000\">'fecha_de_recepcion_de'</span>, <span style=\"color: #008000; text-decoration-color: #008000\">'fecha_de_apertura_efectiva'</span>, <span style=\"color: #008000; text-decoration-color: #008000\">'urlproceso'</span><span style=\"font-weight: bold\">]</span>,\n",
       "      <span style=\"color: #808000; text-decoration-color: #808000\">dtype</span>=<span style=\"color: #008000; text-decoration-color: #008000\">'object'</span><span style=\"font-weight: bold\">)</span>\n",
       "</pre>\n"
      ],
      "text/plain": [
       "\n",
       "\u001b[1;35mIndex\u001b[0m\u001b[1m(\u001b[0m\u001b[1m[\u001b[0m\u001b[32m'entidad'\u001b[0m, \u001b[32m'nit_entidad'\u001b[0m, \u001b[32m'departamento_entidad'\u001b[0m, \u001b[32m'ciudad_entidad'\u001b[0m,\n",
       "       \u001b[32m'ordenentidad'\u001b[0m, \u001b[32m'codigo_pci'\u001b[0m, \u001b[32m'id_del_proceso'\u001b[0m,\n",
       "       \u001b[32m'referencia_del_proceso'\u001b[0m, \u001b[32m'ppi'\u001b[0m, \u001b[32m'id_del_portafolio'\u001b[0m,\n",
       "       \u001b[32m'nombre_del_procedimiento'\u001b[0m, \u001b[32m'descripci_n_del_procedimiento'\u001b[0m, \u001b[32m'fase'\u001b[0m,\n",
       "       \u001b[32m'precio_base'\u001b[0m, \u001b[32m'modalidad_de_contratacion'\u001b[0m,\n",
       "       \u001b[32m'justificaci_n_modalidad_de'\u001b[0m, \u001b[32m'duracion'\u001b[0m, \u001b[32m'unidad_de_duracion'\u001b[0m,\n",
       "       \u001b[32m'ciudad_de_la_unidad_de'\u001b[0m, \u001b[32m'nombre_de_la_unidad_de'\u001b[0m,\n",
       "       \u001b[32m'proveedores_invitados'\u001b[0m, \u001b[32m'proveedores_con_invitacion'\u001b[0m,\n",
       "       \u001b[32m'visualizaciones_del'\u001b[0m, \u001b[32m'proveedores_que_manifestaron'\u001b[0m,\n",
       "       \u001b[32m'respuestas_al_procedimiento'\u001b[0m, \u001b[32m'respuestas_externas'\u001b[0m,\n",
       "       \u001b[32m'conteo_de_respuestas_a_ofertas'\u001b[0m, \u001b[32m'proveedores_unicos_con'\u001b[0m,\n",
       "       \u001b[32m'numero_de_lotes'\u001b[0m, \u001b[32m'estado_del_procedimiento'\u001b[0m,\n",
       "       \u001b[32m'id_estado_del_procedimiento'\u001b[0m, \u001b[32m'adjudicado'\u001b[0m, \u001b[32m'id_adjudicacion'\u001b[0m,\n",
       "       \u001b[32m'codigoproveedor'\u001b[0m, \u001b[32m'departamento_proveedor'\u001b[0m, \u001b[32m'ciudad_proveedor'\u001b[0m,\n",
       "       \u001b[32m'valor_total_adjudicacion'\u001b[0m, \u001b[32m'nombre_del_adjudicador'\u001b[0m,\n",
       "       \u001b[32m'nombre_del_proveedor'\u001b[0m, \u001b[32m'nit_del_proveedor_adjudicado'\u001b[0m,\n",
       "       \u001b[32m'codigo_principal_de_categoria'\u001b[0m, \u001b[32m'estado_de_apertura_del_proceso'\u001b[0m,\n",
       "       \u001b[32m'tipo_de_contrato'\u001b[0m, \u001b[32m'subtipo_de_contrato'\u001b[0m, \u001b[32m'categorias_adicionales'\u001b[0m,\n",
       "       \u001b[32m'codigo_entidad'\u001b[0m, \u001b[32m'estadoresumen'\u001b[0m, \u001b[32m'fecha_de_publicacion_del'\u001b[0m,\n",
       "       \u001b[32m'fecha_de_ultima_publicaci'\u001b[0m, \u001b[32m'fecha_de_publicacion_fase_3'\u001b[0m,\n",
       "       \u001b[32m'fecha_de_recepcion_de'\u001b[0m, \u001b[32m'fecha_de_apertura_efectiva'\u001b[0m, \u001b[32m'urlproceso'\u001b[0m\u001b[1m]\u001b[0m,\n",
       "      \u001b[33mdtype\u001b[0m=\u001b[32m'object'\u001b[0m\u001b[1m)\u001b[0m\n"
      ]
     },
     "metadata": {},
     "output_type": "display_data"
    },
    {
     "data": {
      "text/html": [
       "<pre style=\"white-space:pre;overflow-x:auto;line-height:normal;font-family:Menlo,'DejaVu Sans Mono',consolas,'Courier New',monospace\"><span style=\"font-weight: bold\">&lt;</span><span style=\"color: #ff00ff; text-decoration-color: #ff00ff; font-weight: bold\">IPython.core.display.Javascript</span><span style=\"color: #000000; text-decoration-color: #000000\"> object</span><span style=\"font-weight: bold\">&gt;</span>\n",
       "</pre>\n"
      ],
      "text/plain": [
       "\u001b[1m<\u001b[0m\u001b[1;95mIPython.core.display.Javascript\u001b[0m\u001b[39m object\u001b[0m\u001b[1m>\u001b[0m\n"
      ]
     },
     "metadata": {},
     "output_type": "display_data"
    },
    {
     "data": {
      "application/javascript": [
       "\n",
       "            setTimeout(function() {\n",
       "                var nbb_cell_id = 41;\n",
       "                var nbb_unformatted_code = \"results_df.columns\";\n",
       "                var nbb_formatted_code = \"results_df.columns\";\n",
       "                var nbb_cells = Jupyter.notebook.get_cells();\n",
       "                for (var i = 0; i < nbb_cells.length; ++i) {\n",
       "                    if (nbb_cells[i].input_prompt_number == nbb_cell_id) {\n",
       "                        if (nbb_cells[i].get_text() == nbb_unformatted_code) {\n",
       "                             nbb_cells[i].set_text(nbb_formatted_code);\n",
       "                        }\n",
       "                        break;\n",
       "                    }\n",
       "                }\n",
       "            }, 500);\n",
       "            "
      ]
     },
     "metadata": {},
     "output_type": "display_data"
    }
   ],
   "source": [
    "results_df.columns"
   ]
  },
  {
   "cell_type": "code",
   "execution_count": 50,
   "id": "aed4edde",
   "metadata": {
    "scrolled": true
   },
   "outputs": [
    {
     "data": {
      "text/html": [
       "<pre style=\"white-space:pre;overflow-x:auto;line-height:normal;font-family:Menlo,'DejaVu Sans Mono',consolas,'Courier New',monospace\">\n",
       "entidad                                                 Vortal Operations\n",
       "nit_entidad                                                     <span style=\"color: #008080; text-decoration-color: #008080; font-weight: bold\">000000001</span>\n",
       "departamento_entidad                                              Quindío\n",
       "ciudad_entidad                                                    Armenia\n",
       "ordenentidad                                                  Territorial\n",
       "codigo_pci                                                             Si\n",
       "id_del_proceso                                             CO1.REQ.<span style=\"color: #008080; text-decoration-color: #008080; font-weight: bold\">948804</span>\n",
       "referencia_del_proceso                                     CMA_MFR_2808_2\n",
       "ppi                                                                    ND\n",
       "id_del_portafolio                                         CO1.BDOS.<span style=\"color: #008080; text-decoration-color: #008080; font-weight: bold\">915520</span>\n",
       "nombre_del_procedimiento                                       CMAMFR2808\n",
       "descripci_n_del_procedimiento                                  CMAMFR2808\n",
       "fase                                                          No Definido\n",
       "precio_base                                                            <span style=\"color: #008080; text-decoration-color: #008080; font-weight: bold\">-1</span>\n",
       "modalidad_de_contratacion         Concurso de méritos con precalificación\n",
       "justificaci_n_modalidad_de                               Ley <span style=\"color: #008080; text-decoration-color: #008080; font-weight: bold\">1150</span> de <span style=\"color: #008080; text-decoration-color: #008080; font-weight: bold\">2007</span>\n",
       "duracion                                                                <span style=\"color: #008080; text-decoration-color: #008080; font-weight: bold\">0</span>\n",
       "unidad_de_duracion                                                     ND\n",
       "ciudad_de_la_unidad_de                                        No definida\n",
       "nombre_de_la_unidad_de                                               CC01\n",
       "proveedores_invitados                                                   <span style=\"color: #008080; text-decoration-color: #008080; font-weight: bold\">0</span>\n",
       "proveedores_con_invitacion                                              <span style=\"color: #008080; text-decoration-color: #008080; font-weight: bold\">0</span>\n",
       "visualizaciones_del                                                     <span style=\"color: #008080; text-decoration-color: #008080; font-weight: bold\">0</span>\n",
       "proveedores_que_manifestaron                                            <span style=\"color: #008080; text-decoration-color: #008080; font-weight: bold\">0</span>\n",
       "respuestas_al_procedimiento                                             <span style=\"color: #008080; text-decoration-color: #008080; font-weight: bold\">0</span>\n",
       "respuestas_externas                                                     <span style=\"color: #008080; text-decoration-color: #008080; font-weight: bold\">0</span>\n",
       "conteo_de_respuestas_a_ofertas                                          <span style=\"color: #008080; text-decoration-color: #008080; font-weight: bold\">0</span>\n",
       "proveedores_unicos_con                                                  <span style=\"color: #008080; text-decoration-color: #008080; font-weight: bold\">0</span>\n",
       "numero_de_lotes                                                         <span style=\"color: #008080; text-decoration-color: #008080; font-weight: bold\">0</span>\n",
       "estado_del_procedimiento                                      No Definido\n",
       "id_estado_del_procedimiento                                           <span style=\"color: #008080; text-decoration-color: #008080; font-weight: bold\">110</span>\n",
       "adjudicado                                                             No\n",
       "id_adjudicacion                                             No Adjudicado\n",
       "codigoproveedor                                             No Adjudicado\n",
       "departamento_proveedor                                          No aplica\n",
       "ciudad_proveedor                                                No aplica\n",
       "valor_total_adjudicacion                                                <span style=\"color: #008080; text-decoration-color: #008080; font-weight: bold\">0</span>\n",
       "nombre_del_adjudicador                                      No Adjudicado\n",
       "nombre_del_proveedor                                        No Adjudicado\n",
       "nit_del_proveedor_adjudicado                                No Adjudicado\n",
       "codigo_principal_de_categoria                                 V1.<span style=\"color: #008080; text-decoration-color: #008080; font-weight: bold\">10101500</span>\n",
       "estado_de_apertura_del_proceso                                    Abierto\n",
       "tipo_de_contrato                                              Consultoría\n",
       "subtipo_de_contrato                                       No Especificado\n",
       "categorias_adicionales                                                 ND\n",
       "codigo_entidad                                                  <span style=\"color: #008080; text-decoration-color: #008080; font-weight: bold\">700003015</span>\n",
       "estadoresumen                                                 No Definido\n",
       "fecha_de_publicacion_del                                                 \n",
       "fecha_de_ultima_publicaci                                                \n",
       "fecha_de_publicacion_fase_3                                              \n",
       "fecha_de_recepcion_de                                                    \n",
       "fecha_de_apertura_efectiva                                               \n",
       "urlproceso                                                            NaN\n",
       "Name: <span style=\"color: #008080; text-decoration-color: #008080; font-weight: bold\">0</span>, dtype: object\n",
       "</pre>\n"
      ],
      "text/plain": [
       "\n",
       "entidad                                                 Vortal Operations\n",
       "nit_entidad                                                     \u001b[1;36m000000001\u001b[0m\n",
       "departamento_entidad                                              Quindío\n",
       "ciudad_entidad                                                    Armenia\n",
       "ordenentidad                                                  Territorial\n",
       "codigo_pci                                                             Si\n",
       "id_del_proceso                                             CO1.REQ.\u001b[1;36m948804\u001b[0m\n",
       "referencia_del_proceso                                     CMA_MFR_2808_2\n",
       "ppi                                                                    ND\n",
       "id_del_portafolio                                         CO1.BDOS.\u001b[1;36m915520\u001b[0m\n",
       "nombre_del_procedimiento                                       CMAMFR2808\n",
       "descripci_n_del_procedimiento                                  CMAMFR2808\n",
       "fase                                                          No Definido\n",
       "precio_base                                                            \u001b[1;36m-1\u001b[0m\n",
       "modalidad_de_contratacion         Concurso de méritos con precalificación\n",
       "justificaci_n_modalidad_de                               Ley \u001b[1;36m1150\u001b[0m de \u001b[1;36m2007\u001b[0m\n",
       "duracion                                                                \u001b[1;36m0\u001b[0m\n",
       "unidad_de_duracion                                                     ND\n",
       "ciudad_de_la_unidad_de                                        No definida\n",
       "nombre_de_la_unidad_de                                               CC01\n",
       "proveedores_invitados                                                   \u001b[1;36m0\u001b[0m\n",
       "proveedores_con_invitacion                                              \u001b[1;36m0\u001b[0m\n",
       "visualizaciones_del                                                     \u001b[1;36m0\u001b[0m\n",
       "proveedores_que_manifestaron                                            \u001b[1;36m0\u001b[0m\n",
       "respuestas_al_procedimiento                                             \u001b[1;36m0\u001b[0m\n",
       "respuestas_externas                                                     \u001b[1;36m0\u001b[0m\n",
       "conteo_de_respuestas_a_ofertas                                          \u001b[1;36m0\u001b[0m\n",
       "proveedores_unicos_con                                                  \u001b[1;36m0\u001b[0m\n",
       "numero_de_lotes                                                         \u001b[1;36m0\u001b[0m\n",
       "estado_del_procedimiento                                      No Definido\n",
       "id_estado_del_procedimiento                                           \u001b[1;36m110\u001b[0m\n",
       "adjudicado                                                             No\n",
       "id_adjudicacion                                             No Adjudicado\n",
       "codigoproveedor                                             No Adjudicado\n",
       "departamento_proveedor                                          No aplica\n",
       "ciudad_proveedor                                                No aplica\n",
       "valor_total_adjudicacion                                                \u001b[1;36m0\u001b[0m\n",
       "nombre_del_adjudicador                                      No Adjudicado\n",
       "nombre_del_proveedor                                        No Adjudicado\n",
       "nit_del_proveedor_adjudicado                                No Adjudicado\n",
       "codigo_principal_de_categoria                                 V1.\u001b[1;36m10101500\u001b[0m\n",
       "estado_de_apertura_del_proceso                                    Abierto\n",
       "tipo_de_contrato                                              Consultoría\n",
       "subtipo_de_contrato                                       No Especificado\n",
       "categorias_adicionales                                                 ND\n",
       "codigo_entidad                                                  \u001b[1;36m700003015\u001b[0m\n",
       "estadoresumen                                                 No Definido\n",
       "fecha_de_publicacion_del                                                 \n",
       "fecha_de_ultima_publicaci                                                \n",
       "fecha_de_publicacion_fase_3                                              \n",
       "fecha_de_recepcion_de                                                    \n",
       "fecha_de_apertura_efectiva                                               \n",
       "urlproceso                                                            NaN\n",
       "Name: \u001b[1;36m0\u001b[0m, dtype: object\n"
      ]
     },
     "metadata": {},
     "output_type": "display_data"
    },
    {
     "data": {
      "text/html": [
       "<pre style=\"white-space:pre;overflow-x:auto;line-height:normal;font-family:Menlo,'DejaVu Sans Mono',consolas,'Courier New',monospace\"><span style=\"font-weight: bold\">&lt;</span><span style=\"color: #ff00ff; text-decoration-color: #ff00ff; font-weight: bold\">IPython.core.display.Javascript</span><span style=\"color: #000000; text-decoration-color: #000000\"> object</span><span style=\"font-weight: bold\">&gt;</span>\n",
       "</pre>\n"
      ],
      "text/plain": [
       "\u001b[1m<\u001b[0m\u001b[1;95mIPython.core.display.Javascript\u001b[0m\u001b[39m object\u001b[0m\u001b[1m>\u001b[0m\n"
      ]
     },
     "metadata": {},
     "output_type": "display_data"
    },
    {
     "data": {
      "application/javascript": [
       "\n",
       "            setTimeout(function() {\n",
       "                var nbb_cell_id = 50;\n",
       "                var nbb_unformatted_code = \"results_df.iloc[0]\";\n",
       "                var nbb_formatted_code = \"results_df.iloc[0]\";\n",
       "                var nbb_cells = Jupyter.notebook.get_cells();\n",
       "                for (var i = 0; i < nbb_cells.length; ++i) {\n",
       "                    if (nbb_cells[i].input_prompt_number == nbb_cell_id) {\n",
       "                        if (nbb_cells[i].get_text() == nbb_unformatted_code) {\n",
       "                             nbb_cells[i].set_text(nbb_formatted_code);\n",
       "                        }\n",
       "                        break;\n",
       "                    }\n",
       "                }\n",
       "            }, 500);\n",
       "            "
      ]
     },
     "metadata": {},
     "output_type": "display_data"
    }
   ],
   "source": [
    "results_df.iloc[0]"
   ]
  },
  {
   "cell_type": "code",
   "execution_count": 51,
   "id": "5430e563",
   "metadata": {},
   "outputs": [
    {
     "data": {
      "text/html": [
       "<pre style=\"white-space:pre;overflow-x:auto;line-height:normal;font-family:Menlo,'DejaVu Sans Mono',consolas,'Courier New',monospace\"><span style=\"color: #800080; text-decoration-color: #800080; font-weight: bold\">dtype</span><span style=\"font-weight: bold\">(</span><span style=\"color: #008000; text-decoration-color: #008000\">'O'</span><span style=\"font-weight: bold\">)</span>\n",
       "</pre>\n"
      ],
      "text/plain": [
       "\u001b[1;35mdtype\u001b[0m\u001b[1m(\u001b[0m\u001b[32m'O'\u001b[0m\u001b[1m)\u001b[0m\n"
      ]
     },
     "metadata": {},
     "output_type": "display_data"
    },
    {
     "data": {
      "text/html": [
       "<pre style=\"white-space:pre;overflow-x:auto;line-height:normal;font-family:Menlo,'DejaVu Sans Mono',consolas,'Courier New',monospace\"><span style=\"font-weight: bold\">&lt;</span><span style=\"color: #ff00ff; text-decoration-color: #ff00ff; font-weight: bold\">IPython.core.display.Javascript</span><span style=\"color: #000000; text-decoration-color: #000000\"> object</span><span style=\"font-weight: bold\">&gt;</span>\n",
       "</pre>\n"
      ],
      "text/plain": [
       "\u001b[1m<\u001b[0m\u001b[1;95mIPython.core.display.Javascript\u001b[0m\u001b[39m object\u001b[0m\u001b[1m>\u001b[0m\n"
      ]
     },
     "metadata": {},
     "output_type": "display_data"
    },
    {
     "data": {
      "application/javascript": [
       "\n",
       "            setTimeout(function() {\n",
       "                var nbb_cell_id = 51;\n",
       "                var nbb_unformatted_code = \"results_df[\\\"proveedores_con_invitacion\\\"].dtype\";\n",
       "                var nbb_formatted_code = \"results_df[\\\"proveedores_con_invitacion\\\"].dtype\";\n",
       "                var nbb_cells = Jupyter.notebook.get_cells();\n",
       "                for (var i = 0; i < nbb_cells.length; ++i) {\n",
       "                    if (nbb_cells[i].input_prompt_number == nbb_cell_id) {\n",
       "                        if (nbb_cells[i].get_text() == nbb_unformatted_code) {\n",
       "                             nbb_cells[i].set_text(nbb_formatted_code);\n",
       "                        }\n",
       "                        break;\n",
       "                    }\n",
       "                }\n",
       "            }, 500);\n",
       "            "
      ]
     },
     "metadata": {},
     "output_type": "display_data"
    }
   ],
   "source": [
    "results_df[\"proveedores_con_invitacion\"].dtype"
   ]
  },
  {
   "cell_type": "code",
   "execution_count": 52,
   "id": "22c16d33",
   "metadata": {},
   "outputs": [
    {
     "data": {
      "text/html": [
       "<pre style=\"white-space:pre;overflow-x:auto;line-height:normal;font-family:Menlo,'DejaVu Sans Mono',consolas,'Courier New',monospace\">\n",
       "entidad                           object\n",
       "nit_entidad                       object\n",
       "departamento_entidad              object\n",
       "ciudad_entidad                    object\n",
       "ordenentidad                      object\n",
       "codigo_pci                        object\n",
       "id_del_proceso                    object\n",
       "referencia_del_proceso            object\n",
       "ppi                               object\n",
       "id_del_portafolio                 object\n",
       "nombre_del_procedimiento          object\n",
       "descripci_n_del_procedimiento     object\n",
       "fase                              object\n",
       "precio_base                       object\n",
       "modalidad_de_contratacion         object\n",
       "justificaci_n_modalidad_de        object\n",
       "duracion                          object\n",
       "unidad_de_duracion                object\n",
       "ciudad_de_la_unidad_de            object\n",
       "nombre_de_la_unidad_de            object\n",
       "proveedores_invitados             object\n",
       "proveedores_con_invitacion        object\n",
       "visualizaciones_del               object\n",
       "proveedores_que_manifestaron      object\n",
       "respuestas_al_procedimiento       object\n",
       "respuestas_externas               object\n",
       "conteo_de_respuestas_a_ofertas    object\n",
       "proveedores_unicos_con            object\n",
       "numero_de_lotes                   object\n",
       "estado_del_procedimiento          object\n",
       "id_estado_del_procedimiento       object\n",
       "adjudicado                        object\n",
       "id_adjudicacion                   object\n",
       "codigoproveedor                   object\n",
       "departamento_proveedor            object\n",
       "ciudad_proveedor                  object\n",
       "valor_total_adjudicacion          object\n",
       "nombre_del_adjudicador            object\n",
       "nombre_del_proveedor              object\n",
       "nit_del_proveedor_adjudicado      object\n",
       "codigo_principal_de_categoria     object\n",
       "estado_de_apertura_del_proceso    object\n",
       "tipo_de_contrato                  object\n",
       "subtipo_de_contrato               object\n",
       "categorias_adicionales            object\n",
       "codigo_entidad                    object\n",
       "estadoresumen                     object\n",
       "fecha_de_publicacion_del          object\n",
       "fecha_de_ultima_publicaci         object\n",
       "fecha_de_publicacion_fase_3       object\n",
       "fecha_de_recepcion_de             object\n",
       "fecha_de_apertura_efectiva        object\n",
       "urlproceso                        object\n",
       "dtype: object\n",
       "</pre>\n"
      ],
      "text/plain": [
       "\n",
       "entidad                           object\n",
       "nit_entidad                       object\n",
       "departamento_entidad              object\n",
       "ciudad_entidad                    object\n",
       "ordenentidad                      object\n",
       "codigo_pci                        object\n",
       "id_del_proceso                    object\n",
       "referencia_del_proceso            object\n",
       "ppi                               object\n",
       "id_del_portafolio                 object\n",
       "nombre_del_procedimiento          object\n",
       "descripci_n_del_procedimiento     object\n",
       "fase                              object\n",
       "precio_base                       object\n",
       "modalidad_de_contratacion         object\n",
       "justificaci_n_modalidad_de        object\n",
       "duracion                          object\n",
       "unidad_de_duracion                object\n",
       "ciudad_de_la_unidad_de            object\n",
       "nombre_de_la_unidad_de            object\n",
       "proveedores_invitados             object\n",
       "proveedores_con_invitacion        object\n",
       "visualizaciones_del               object\n",
       "proveedores_que_manifestaron      object\n",
       "respuestas_al_procedimiento       object\n",
       "respuestas_externas               object\n",
       "conteo_de_respuestas_a_ofertas    object\n",
       "proveedores_unicos_con            object\n",
       "numero_de_lotes                   object\n",
       "estado_del_procedimiento          object\n",
       "id_estado_del_procedimiento       object\n",
       "adjudicado                        object\n",
       "id_adjudicacion                   object\n",
       "codigoproveedor                   object\n",
       "departamento_proveedor            object\n",
       "ciudad_proveedor                  object\n",
       "valor_total_adjudicacion          object\n",
       "nombre_del_adjudicador            object\n",
       "nombre_del_proveedor              object\n",
       "nit_del_proveedor_adjudicado      object\n",
       "codigo_principal_de_categoria     object\n",
       "estado_de_apertura_del_proceso    object\n",
       "tipo_de_contrato                  object\n",
       "subtipo_de_contrato               object\n",
       "categorias_adicionales            object\n",
       "codigo_entidad                    object\n",
       "estadoresumen                     object\n",
       "fecha_de_publicacion_del          object\n",
       "fecha_de_ultima_publicaci         object\n",
       "fecha_de_publicacion_fase_3       object\n",
       "fecha_de_recepcion_de             object\n",
       "fecha_de_apertura_efectiva        object\n",
       "urlproceso                        object\n",
       "dtype: object\n"
      ]
     },
     "metadata": {},
     "output_type": "display_data"
    },
    {
     "data": {
      "text/html": [
       "<pre style=\"white-space:pre;overflow-x:auto;line-height:normal;font-family:Menlo,'DejaVu Sans Mono',consolas,'Courier New',monospace\"><span style=\"font-weight: bold\">&lt;</span><span style=\"color: #ff00ff; text-decoration-color: #ff00ff; font-weight: bold\">IPython.core.display.Javascript</span><span style=\"color: #000000; text-decoration-color: #000000\"> object</span><span style=\"font-weight: bold\">&gt;</span>\n",
       "</pre>\n"
      ],
      "text/plain": [
       "\u001b[1m<\u001b[0m\u001b[1;95mIPython.core.display.Javascript\u001b[0m\u001b[39m object\u001b[0m\u001b[1m>\u001b[0m\n"
      ]
     },
     "metadata": {},
     "output_type": "display_data"
    },
    {
     "data": {
      "application/javascript": [
       "\n",
       "            setTimeout(function() {\n",
       "                var nbb_cell_id = 52;\n",
       "                var nbb_unformatted_code = \"results_df.dtypes\";\n",
       "                var nbb_formatted_code = \"results_df.dtypes\";\n",
       "                var nbb_cells = Jupyter.notebook.get_cells();\n",
       "                for (var i = 0; i < nbb_cells.length; ++i) {\n",
       "                    if (nbb_cells[i].input_prompt_number == nbb_cell_id) {\n",
       "                        if (nbb_cells[i].get_text() == nbb_unformatted_code) {\n",
       "                             nbb_cells[i].set_text(nbb_formatted_code);\n",
       "                        }\n",
       "                        break;\n",
       "                    }\n",
       "                }\n",
       "            }, 500);\n",
       "            "
      ]
     },
     "metadata": {},
     "output_type": "display_data"
    }
   ],
   "source": [
    "results_df.dtypes"
   ]
  },
  {
   "cell_type": "code",
   "execution_count": null,
   "id": "a3b87566",
   "metadata": {
    "collapsed": true
   },
   "outputs": [],
   "source": [
    "si\n",
    "sisisuausdfasiudfhas"
   ]
  }
 ],
 "metadata": {
  "kernelspec": {
   "display_name": "Kedro (secop)",
   "language": "python",
   "name": "kedro_secop"
  },
  "language_info": {
   "codemirror_mode": {
    "name": "ipython",
    "version": 3
   },
   "file_extension": ".py",
   "mimetype": "text/x-python",
   "name": "python",
   "nbconvert_exporter": "python",
   "pygments_lexer": "ipython3",
   "version": "3.10.5"
  }
 },
 "nbformat": 4,
 "nbformat_minor": 5
}
