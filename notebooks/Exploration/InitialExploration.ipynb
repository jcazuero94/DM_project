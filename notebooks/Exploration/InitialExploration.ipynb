{
 "cells": [
  {
   "cell_type": "code",
   "execution_count": 1,
   "id": "6664f06a",
   "metadata": {},
   "outputs": [],
   "source": [
    "import pandas as pd\n",
    "import numpy as np\n",
    "import json\n",
    "import matplotlib.pyplot as plt\n",
    "from sodapy import Socrata\n",
    "import datetime\n",
    "\n",
    "from pyspark.sql import SparkSession\n",
    "from pyspark.sql import SQLContext"
   ]
  },
  {
   "cell_type": "code",
   "execution_count": 2,
   "id": "8a1d9003",
   "metadata": {},
   "outputs": [
    {
     "data": {
      "text/html": [
       "<pre style=\"white-space:pre;overflow-x:auto;line-height:normal;font-family:Menlo,'DejaVu Sans Mono',consolas,'Courier New',monospace\"><span style=\"font-weight: bold\">&lt;</span><span style=\"color: #ff00ff; text-decoration-color: #ff00ff; font-weight: bold\">IPython.core.display.Javascript</span><span style=\"color: #000000; text-decoration-color: #000000\"> object</span><span style=\"font-weight: bold\">&gt;</span>\n",
       "</pre>\n"
      ],
      "text/plain": [
       "\u001b[1m<\u001b[0m\u001b[1;95mIPython.core.display.Javascript\u001b[0m\u001b[39m object\u001b[0m\u001b[1m>\u001b[0m\n"
      ]
     },
     "metadata": {},
     "output_type": "display_data"
    },
    {
     "data": {
      "application/javascript": [
       "\n",
       "            setTimeout(function() {\n",
       "                var nbb_cell_id = 2;\n",
       "                var nbb_unformatted_code = \"%load_ext nb_black\\n%matplotlib inline\";\n",
       "                var nbb_formatted_code = \"%load_ext nb_black\\n%matplotlib inline\";\n",
       "                var nbb_cells = Jupyter.notebook.get_cells();\n",
       "                for (var i = 0; i < nbb_cells.length; ++i) {\n",
       "                    if (nbb_cells[i].input_prompt_number == nbb_cell_id) {\n",
       "                        if (nbb_cells[i].get_text() == nbb_unformatted_code) {\n",
       "                             nbb_cells[i].set_text(nbb_formatted_code);\n",
       "                        }\n",
       "                        break;\n",
       "                    }\n",
       "                }\n",
       "            }, 500);\n",
       "            "
      ]
     },
     "metadata": {},
     "output_type": "display_data"
    }
   ],
   "source": [
    "%load_ext nb_black\n",
    "%matplotlib inline\n"
   ]
  },
  {
   "cell_type": "code",
   "execution_count": 3,
   "id": "60e411ad",
   "metadata": {},
   "outputs": [
    {
     "data": {
      "text/html": [
       "<pre style=\"white-space:pre;overflow-x:auto;line-height:normal;font-family:Menlo,'DejaVu Sans Mono',consolas,'Courier New',monospace\"><span style=\"font-weight: bold\">&lt;</span><span style=\"color: #ff00ff; text-decoration-color: #ff00ff; font-weight: bold\">IPython.core.display.Javascript</span><span style=\"color: #000000; text-decoration-color: #000000\"> object</span><span style=\"font-weight: bold\">&gt;</span>\n",
       "</pre>\n"
      ],
      "text/plain": [
       "\u001b[1m<\u001b[0m\u001b[1;95mIPython.core.display.Javascript\u001b[0m\u001b[39m object\u001b[0m\u001b[1m>\u001b[0m\n"
      ]
     },
     "metadata": {},
     "output_type": "display_data"
    },
    {
     "data": {
      "application/javascript": [
       "\n",
       "            setTimeout(function() {\n",
       "                var nbb_cell_id = 3;\n",
       "                var nbb_unformatted_code = \"CODE_INTEGRATED = \\\"rpmr-utcd\\\"\\nCODE_SECOPII = \\\"p6dx-8zbt\\\"\";\n",
       "                var nbb_formatted_code = \"CODE_INTEGRATED = \\\"rpmr-utcd\\\"\\nCODE_SECOPII = \\\"p6dx-8zbt\\\"\";\n",
       "                var nbb_cells = Jupyter.notebook.get_cells();\n",
       "                for (var i = 0; i < nbb_cells.length; ++i) {\n",
       "                    if (nbb_cells[i].input_prompt_number == nbb_cell_id) {\n",
       "                        if (nbb_cells[i].get_text() == nbb_unformatted_code) {\n",
       "                             nbb_cells[i].set_text(nbb_formatted_code);\n",
       "                        }\n",
       "                        break;\n",
       "                    }\n",
       "                }\n",
       "            }, 500);\n",
       "            "
      ]
     },
     "metadata": {},
     "output_type": "display_data"
    }
   ],
   "source": [
    "CODE_INTEGRATED = \"rpmr-utcd\"\n",
    "CODE_SECOPII = \"p6dx-8zbt\"\n"
   ]
  },
  {
   "cell_type": "code",
   "execution_count": 4,
   "id": "f096a030",
   "metadata": {},
   "outputs": [
    {
     "data": {
      "text/html": [
       "<pre style=\"white-space:pre;overflow-x:auto;line-height:normal;font-family:Menlo,'DejaVu Sans Mono',consolas,'Courier New',monospace\"><span style=\"font-weight: bold\">&lt;</span><span style=\"color: #ff00ff; text-decoration-color: #ff00ff; font-weight: bold\">IPython.core.display.Javascript</span><span style=\"color: #000000; text-decoration-color: #000000\"> object</span><span style=\"font-weight: bold\">&gt;</span>\n",
       "</pre>\n"
      ],
      "text/plain": [
       "\u001b[1m<\u001b[0m\u001b[1;95mIPython.core.display.Javascript\u001b[0m\u001b[39m object\u001b[0m\u001b[1m>\u001b[0m\n"
      ]
     },
     "metadata": {},
     "output_type": "display_data"
    },
    {
     "data": {
      "application/javascript": [
       "\n",
       "            setTimeout(function() {\n",
       "                var nbb_cell_id = 4;\n",
       "                var nbb_unformatted_code = \"#client = Socrata(\\\"www.datos.gov.co\\\", None)\\n#request = client.get(CODE_SECOPII, limit=1000, select=\\\"distinct nit_entidad\\\")\\n#nits_list = [x[\\\"nit_entidad\\\"] for x in request]\\n#{x: {\\\"req\\\": 0, \\\"date\\\": 0} for x in nits_list}\";\n",
       "                var nbb_formatted_code = \"# client = Socrata(\\\"www.datos.gov.co\\\", None)\\n# request = client.get(CODE_SECOPII, limit=1000, select=\\\"distinct nit_entidad\\\")\\n# nits_list = [x[\\\"nit_entidad\\\"] for x in request]\\n# {x: {\\\"req\\\": 0, \\\"date\\\": 0} for x in nits_list}\";\n",
       "                var nbb_cells = Jupyter.notebook.get_cells();\n",
       "                for (var i = 0; i < nbb_cells.length; ++i) {\n",
       "                    if (nbb_cells[i].input_prompt_number == nbb_cell_id) {\n",
       "                        if (nbb_cells[i].get_text() == nbb_unformatted_code) {\n",
       "                             nbb_cells[i].set_text(nbb_formatted_code);\n",
       "                        }\n",
       "                        break;\n",
       "                    }\n",
       "                }\n",
       "            }, 500);\n",
       "            "
      ]
     },
     "metadata": {},
     "output_type": "display_data"
    }
   ],
   "source": [
    "# client = Socrata(\"www.datos.gov.co\", None)\n",
    "# request = client.get(CODE_SECOPII, limit=1000, select=\"distinct nit_entidad\")\n",
    "# nits_list = [x[\"nit_entidad\"] for x in request]\n",
    "# {x: {\"req\": 0, \"date\": 0} for x in nits_list}"
   ]
  },
  {
   "cell_type": "code",
   "execution_count": 6,
   "id": "0f2b1672",
   "metadata": {},
   "outputs": [
    {
     "data": {
      "text/html": [
       "<pre style=\"white-space:pre;overflow-x:auto;line-height:normal;font-family:Menlo,'DejaVu Sans Mono',consolas,'Courier New',monospace\"><span style=\"color: #7fbfbf; text-decoration-color: #7fbfbf\">[07/14/22 15:09:55] </span><span style=\"color: #800000; text-decoration-color: #800000\">WARNING </span> Requests made without an app_token will be subject to strict throttling  <a href=\"file:///opt/homebrew/Caskroom/miniforge/base/envs/dm_project/lib/python3.10/site-packages/sodapy/socrata.py\" target=\"_blank\"><span style=\"color: #7f7f7f; text-decoration-color: #7f7f7f\">socrata.py</span></a><span style=\"color: #7f7f7f; text-decoration-color: #7f7f7f\">:</span><a href=\"file:///opt/homebrew/Caskroom/miniforge/base/envs/dm_project/lib/python3.10/site-packages/sodapy/socrata.py#63\" target=\"_blank\"><span style=\"color: #7f7f7f; text-decoration-color: #7f7f7f\">63</span></a>\n",
       "<span style=\"color: #7fbfbf; text-decoration-color: #7fbfbf\">                    </span>         limits.                                                                  <span style=\"color: #7f7f7f; text-decoration-color: #7f7f7f\">             </span>\n",
       "</pre>\n"
      ],
      "text/plain": [
       "\u001b[2;36m[07/14/22 15:09:55]\u001b[0m\u001b[2;36m \u001b[0m\u001b[31mWARNING \u001b[0m Requests made without an app_token will be subject to strict throttling  \u001b]8;id=667054;file:///opt/homebrew/Caskroom/miniforge/base/envs/dm_project/lib/python3.10/site-packages/sodapy/socrata.py\u001b\\\u001b[2msocrata.py\u001b[0m\u001b]8;;\u001b\\\u001b[2m:\u001b[0m\u001b]8;id=809967;file:///opt/homebrew/Caskroom/miniforge/base/envs/dm_project/lib/python3.10/site-packages/sodapy/socrata.py#63\u001b\\\u001b[2m63\u001b[0m\u001b]8;;\u001b\\\n",
       "\u001b[2;36m                    \u001b[0m         limits.                                                                  \u001b[2m             \u001b[0m\n"
      ]
     },
     "metadata": {},
     "output_type": "display_data"
    },
    {
     "data": {
      "text/html": [
       "<pre style=\"white-space:pre;overflow-x:auto;line-height:normal;font-family:Menlo,'DejaVu Sans Mono',consolas,'Courier New',monospace\"><span style=\"font-weight: bold\">&lt;</span><span style=\"color: #ff00ff; text-decoration-color: #ff00ff; font-weight: bold\">IPython.core.display.Javascript</span><span style=\"color: #000000; text-decoration-color: #000000\"> object</span><span style=\"font-weight: bold\">&gt;</span>\n",
       "</pre>\n"
      ],
      "text/plain": [
       "\u001b[1m<\u001b[0m\u001b[1;95mIPython.core.display.Javascript\u001b[0m\u001b[39m object\u001b[0m\u001b[1m>\u001b[0m\n"
      ]
     },
     "metadata": {},
     "output_type": "display_data"
    },
    {
     "data": {
      "application/javascript": [
       "\n",
       "            setTimeout(function() {\n",
       "                var nbb_cell_id = 6;\n",
       "                var nbb_unformatted_code = \"client = Socrata(\\\"www.datos.gov.co\\\", None)\";\n",
       "                var nbb_formatted_code = \"client = Socrata(\\\"www.datos.gov.co\\\", None)\";\n",
       "                var nbb_cells = Jupyter.notebook.get_cells();\n",
       "                for (var i = 0; i < nbb_cells.length; ++i) {\n",
       "                    if (nbb_cells[i].input_prompt_number == nbb_cell_id) {\n",
       "                        if (nbb_cells[i].get_text() == nbb_unformatted_code) {\n",
       "                             nbb_cells[i].set_text(nbb_formatted_code);\n",
       "                        }\n",
       "                        break;\n",
       "                    }\n",
       "                }\n",
       "            }, 500);\n",
       "            "
      ]
     },
     "metadata": {},
     "output_type": "display_data"
    }
   ],
   "source": [
    "client = Socrata(\"www.datos.gov.co\", None)"
   ]
  },
  {
   "cell_type": "code",
   "execution_count": 7,
   "id": "a935d8ee",
   "metadata": {},
   "outputs": [
    {
     "data": {
      "text/html": [
       "<pre style=\"white-space:pre;overflow-x:auto;line-height:normal;font-family:Menlo,'DejaVu Sans Mono',consolas,'Courier New',monospace\"><span style=\"color: #7fbfbf; text-decoration-color: #7fbfbf\">[07/14/22 15:09:57] </span><span style=\"color: #000080; text-decoration-color: #000080\">INFO    </span> Loading data from <span style=\"color: #008000; text-decoration-color: #008000\">'secop_int_log_in'</span> <span style=\"font-weight: bold\">(</span>JSONDataSet<span style=\"font-weight: bold\">)</span><span style=\"color: #808000; text-decoration-color: #808000\">...</span>              <a href=\"file:///opt/homebrew/Caskroom/miniforge/base/envs/dm_project/lib/python3.10/site-packages/kedro/io/data_catalog.py\" target=\"_blank\"><span style=\"color: #7f7f7f; text-decoration-color: #7f7f7f\">data_catalog.py</span></a><span style=\"color: #7f7f7f; text-decoration-color: #7f7f7f\">:</span><a href=\"file:///opt/homebrew/Caskroom/miniforge/base/envs/dm_project/lib/python3.10/site-packages/kedro/io/data_catalog.py#343\" target=\"_blank\"><span style=\"color: #7f7f7f; text-decoration-color: #7f7f7f\">343</span></a>\n",
       "</pre>\n"
      ],
      "text/plain": [
       "\u001b[2;36m[07/14/22 15:09:57]\u001b[0m\u001b[2;36m \u001b[0m\u001b[34mINFO    \u001b[0m Loading data from \u001b[32m'secop_int_log_in'\u001b[0m \u001b[1m(\u001b[0mJSONDataSet\u001b[1m)\u001b[0m\u001b[33m...\u001b[0m              \u001b]8;id=647760;file:///opt/homebrew/Caskroom/miniforge/base/envs/dm_project/lib/python3.10/site-packages/kedro/io/data_catalog.py\u001b\\\u001b[2mdata_catalog.py\u001b[0m\u001b]8;;\u001b\\\u001b[2m:\u001b[0m\u001b]8;id=290268;file:///opt/homebrew/Caskroom/miniforge/base/envs/dm_project/lib/python3.10/site-packages/kedro/io/data_catalog.py#343\u001b\\\u001b[2m343\u001b[0m\u001b]8;;\u001b\\\n"
      ]
     },
     "metadata": {},
     "output_type": "display_data"
    },
    {
     "data": {
      "text/html": [
       "<pre style=\"white-space:pre;overflow-x:auto;line-height:normal;font-family:Menlo,'DejaVu Sans Mono',consolas,'Courier New',monospace\"><span style=\"font-weight: bold\">&lt;</span><span style=\"color: #ff00ff; text-decoration-color: #ff00ff; font-weight: bold\">IPython.core.display.Javascript</span><span style=\"color: #000000; text-decoration-color: #000000\"> object</span><span style=\"font-weight: bold\">&gt;</span>\n",
       "</pre>\n"
      ],
      "text/plain": [
       "\u001b[1m<\u001b[0m\u001b[1;95mIPython.core.display.Javascript\u001b[0m\u001b[39m object\u001b[0m\u001b[1m>\u001b[0m\n"
      ]
     },
     "metadata": {},
     "output_type": "display_data"
    },
    {
     "data": {
      "application/javascript": [
       "\n",
       "            setTimeout(function() {\n",
       "                var nbb_cell_id = 7;\n",
       "                var nbb_unformatted_code = \"secop_int_log = catalog.load(\\\"secop_int_log_in\\\")\";\n",
       "                var nbb_formatted_code = \"secop_int_log = catalog.load(\\\"secop_int_log_in\\\")\";\n",
       "                var nbb_cells = Jupyter.notebook.get_cells();\n",
       "                for (var i = 0; i < nbb_cells.length; ++i) {\n",
       "                    if (nbb_cells[i].input_prompt_number == nbb_cell_id) {\n",
       "                        if (nbb_cells[i].get_text() == nbb_unformatted_code) {\n",
       "                             nbb_cells[i].set_text(nbb_formatted_code);\n",
       "                        }\n",
       "                        break;\n",
       "                    }\n",
       "                }\n",
       "            }, 500);\n",
       "            "
      ]
     },
     "metadata": {},
     "output_type": "display_data"
    }
   ],
   "source": [
    "secop_int_log = catalog.load(\"secop_int_log_in\")"
   ]
  },
  {
   "cell_type": "code",
   "execution_count": 8,
   "id": "7a9178b4",
   "metadata": {},
   "outputs": [
    {
     "data": {
      "text/html": [
       "<pre style=\"white-space:pre;overflow-x:auto;line-height:normal;font-family:Menlo,'DejaVu Sans Mono',consolas,'Courier New',monospace\"><span style=\"font-weight: bold\">&lt;</span><span style=\"color: #ff00ff; text-decoration-color: #ff00ff; font-weight: bold\">IPython.core.display.Javascript</span><span style=\"color: #000000; text-decoration-color: #000000\"> object</span><span style=\"font-weight: bold\">&gt;</span>\n",
       "</pre>\n"
      ],
      "text/plain": [
       "\u001b[1m<\u001b[0m\u001b[1;95mIPython.core.display.Javascript\u001b[0m\u001b[39m object\u001b[0m\u001b[1m>\u001b[0m\n"
      ]
     },
     "metadata": {},
     "output_type": "display_data"
    },
    {
     "data": {
      "application/javascript": [
       "\n",
       "            setTimeout(function() {\n",
       "                var nbb_cell_id = 8;\n",
       "                var nbb_unformatted_code = \"def get_nit_to_extract(log):\\n    nits_to_extract = [k for k in log.keys() if log[k][\\\"req\\\"] == 0]\\n    if len(nits_to_extract) > 0:\\n        nit_to_extract = nits_to_extract[0]\\n    else:\\n        list_dates = [(log[k][\\\"date\\\"], k) for k in log.keys()]\\n        list_dates.sort()\\n        nit_to_extract = list_dates[0][1]\\n    return nit_to_extract\";\n",
       "                var nbb_formatted_code = \"def get_nit_to_extract(log):\\n    nits_to_extract = [k for k in log.keys() if log[k][\\\"req\\\"] == 0]\\n    if len(nits_to_extract) > 0:\\n        nit_to_extract = nits_to_extract[0]\\n    else:\\n        list_dates = [(log[k][\\\"date\\\"], k) for k in log.keys()]\\n        list_dates.sort()\\n        nit_to_extract = list_dates[0][1]\\n    return nit_to_extract\";\n",
       "                var nbb_cells = Jupyter.notebook.get_cells();\n",
       "                for (var i = 0; i < nbb_cells.length; ++i) {\n",
       "                    if (nbb_cells[i].input_prompt_number == nbb_cell_id) {\n",
       "                        if (nbb_cells[i].get_text() == nbb_unformatted_code) {\n",
       "                             nbb_cells[i].set_text(nbb_formatted_code);\n",
       "                        }\n",
       "                        break;\n",
       "                    }\n",
       "                }\n",
       "            }, 500);\n",
       "            "
      ]
     },
     "metadata": {},
     "output_type": "display_data"
    }
   ],
   "source": [
    "def get_nit_to_extract(log):\n",
    "    nits_to_extract = [k for k in log.keys() if log[k][\"req\"] == 0]\n",
    "    if len(nits_to_extract) > 0:\n",
    "        nit_to_extract = nits_to_extract[0]\n",
    "    else:\n",
    "        list_dates = [(log[k][\"date\"], k) for k in log.keys()]\n",
    "        list_dates.sort()\n",
    "        nit_to_extract = list_dates[0][1]\n",
    "    return nit_to_extract"
   ]
  },
  {
   "cell_type": "code",
   "execution_count": 9,
   "id": "5cc14a43",
   "metadata": {},
   "outputs": [
    {
     "data": {
      "text/html": [
       "<pre style=\"white-space:pre;overflow-x:auto;line-height:normal;font-family:Menlo,'DejaVu Sans Mono',consolas,'Courier New',monospace\"><span style=\"font-weight: bold\">&lt;</span><span style=\"color: #ff00ff; text-decoration-color: #ff00ff; font-weight: bold\">IPython.core.display.Javascript</span><span style=\"color: #000000; text-decoration-color: #000000\"> object</span><span style=\"font-weight: bold\">&gt;</span>\n",
       "</pre>\n"
      ],
      "text/plain": [
       "\u001b[1m<\u001b[0m\u001b[1;95mIPython.core.display.Javascript\u001b[0m\u001b[39m object\u001b[0m\u001b[1m>\u001b[0m\n"
      ]
     },
     "metadata": {},
     "output_type": "display_data"
    },
    {
     "data": {
      "application/javascript": [
       "\n",
       "            setTimeout(function() {\n",
       "                var nbb_cell_id = 9;\n",
       "                var nbb_unformatted_code = \"nit_to_extract = get_nit_to_extract(secop_int_log)\";\n",
       "                var nbb_formatted_code = \"nit_to_extract = get_nit_to_extract(secop_int_log)\";\n",
       "                var nbb_cells = Jupyter.notebook.get_cells();\n",
       "                for (var i = 0; i < nbb_cells.length; ++i) {\n",
       "                    if (nbb_cells[i].input_prompt_number == nbb_cell_id) {\n",
       "                        if (nbb_cells[i].get_text() == nbb_unformatted_code) {\n",
       "                             nbb_cells[i].set_text(nbb_formatted_code);\n",
       "                        }\n",
       "                        break;\n",
       "                    }\n",
       "                }\n",
       "            }, 500);\n",
       "            "
      ]
     },
     "metadata": {},
     "output_type": "display_data"
    }
   ],
   "source": [
    "nit_to_extract = get_nit_to_extract(secop_int_log)"
   ]
  },
  {
   "cell_type": "code",
   "execution_count": 10,
   "id": "19ef372e",
   "metadata": {},
   "outputs": [
    {
     "data": {
      "text/html": [
       "<pre style=\"white-space:pre;overflow-x:auto;line-height:normal;font-family:Menlo,'DejaVu Sans Mono',consolas,'Courier New',monospace\"><span style=\"color: #008000; text-decoration-color: #008000\">'0000000000001'</span>\n",
       "</pre>\n"
      ],
      "text/plain": [
       "\u001b[32m'0000000000001'\u001b[0m\n"
      ]
     },
     "metadata": {},
     "output_type": "display_data"
    },
    {
     "data": {
      "text/html": [
       "<pre style=\"white-space:pre;overflow-x:auto;line-height:normal;font-family:Menlo,'DejaVu Sans Mono',consolas,'Courier New',monospace\"><span style=\"font-weight: bold\">&lt;</span><span style=\"color: #ff00ff; text-decoration-color: #ff00ff; font-weight: bold\">IPython.core.display.Javascript</span><span style=\"color: #000000; text-decoration-color: #000000\"> object</span><span style=\"font-weight: bold\">&gt;</span>\n",
       "</pre>\n"
      ],
      "text/plain": [
       "\u001b[1m<\u001b[0m\u001b[1;95mIPython.core.display.Javascript\u001b[0m\u001b[39m object\u001b[0m\u001b[1m>\u001b[0m\n"
      ]
     },
     "metadata": {},
     "output_type": "display_data"
    },
    {
     "data": {
      "application/javascript": [
       "\n",
       "            setTimeout(function() {\n",
       "                var nbb_cell_id = 10;\n",
       "                var nbb_unformatted_code = \"nit_to_extract\";\n",
       "                var nbb_formatted_code = \"nit_to_extract\";\n",
       "                var nbb_cells = Jupyter.notebook.get_cells();\n",
       "                for (var i = 0; i < nbb_cells.length; ++i) {\n",
       "                    if (nbb_cells[i].input_prompt_number == nbb_cell_id) {\n",
       "                        if (nbb_cells[i].get_text() == nbb_unformatted_code) {\n",
       "                             nbb_cells[i].set_text(nbb_formatted_code);\n",
       "                        }\n",
       "                        break;\n",
       "                    }\n",
       "                }\n",
       "            }, 500);\n",
       "            "
      ]
     },
     "metadata": {},
     "output_type": "display_data"
    }
   ],
   "source": [
    "nit_to_extract"
   ]
  },
  {
   "cell_type": "code",
   "execution_count": 11,
   "id": "96af6d86",
   "metadata": {},
   "outputs": [
    {
     "data": {
      "text/html": [
       "<pre style=\"white-space:pre;overflow-x:auto;line-height:normal;font-family:Menlo,'DejaVu Sans Mono',consolas,'Courier New',monospace\"><span style=\"color: #7fbfbf; text-decoration-color: #7fbfbf\">[07/14/22 15:10:03] </span><span style=\"color: #800000; text-decoration-color: #800000\">WARNING </span> Requests made without an app_token will be subject to strict throttling  <a href=\"file:///opt/homebrew/Caskroom/miniforge/base/envs/dm_project/lib/python3.10/site-packages/sodapy/socrata.py\" target=\"_blank\"><span style=\"color: #7f7f7f; text-decoration-color: #7f7f7f\">socrata.py</span></a><span style=\"color: #7f7f7f; text-decoration-color: #7f7f7f\">:</span><a href=\"file:///opt/homebrew/Caskroom/miniforge/base/envs/dm_project/lib/python3.10/site-packages/sodapy/socrata.py#63\" target=\"_blank\"><span style=\"color: #7f7f7f; text-decoration-color: #7f7f7f\">63</span></a>\n",
       "<span style=\"color: #7fbfbf; text-decoration-color: #7fbfbf\">                    </span>         limits.                                                                  <span style=\"color: #7f7f7f; text-decoration-color: #7f7f7f\">             </span>\n",
       "</pre>\n"
      ],
      "text/plain": [
       "\u001b[2;36m[07/14/22 15:10:03]\u001b[0m\u001b[2;36m \u001b[0m\u001b[31mWARNING \u001b[0m Requests made without an app_token will be subject to strict throttling  \u001b]8;id=731606;file:///opt/homebrew/Caskroom/miniforge/base/envs/dm_project/lib/python3.10/site-packages/sodapy/socrata.py\u001b\\\u001b[2msocrata.py\u001b[0m\u001b]8;;\u001b\\\u001b[2m:\u001b[0m\u001b]8;id=193996;file:///opt/homebrew/Caskroom/miniforge/base/envs/dm_project/lib/python3.10/site-packages/sodapy/socrata.py#63\u001b\\\u001b[2m63\u001b[0m\u001b]8;;\u001b\\\n",
       "\u001b[2;36m                    \u001b[0m         limits.                                                                  \u001b[2m             \u001b[0m\n"
      ]
     },
     "metadata": {},
     "output_type": "display_data"
    },
    {
     "data": {
      "text/html": [
       "<pre style=\"white-space:pre;overflow-x:auto;line-height:normal;font-family:Menlo,'DejaVu Sans Mono',consolas,'Courier New',monospace\"><span style=\"font-weight: bold\">&lt;</span><span style=\"color: #ff00ff; text-decoration-color: #ff00ff; font-weight: bold\">IPython.core.display.Javascript</span><span style=\"color: #000000; text-decoration-color: #000000\"> object</span><span style=\"font-weight: bold\">&gt;</span>\n",
       "</pre>\n"
      ],
      "text/plain": [
       "\u001b[1m<\u001b[0m\u001b[1;95mIPython.core.display.Javascript\u001b[0m\u001b[39m object\u001b[0m\u001b[1m>\u001b[0m\n"
      ]
     },
     "metadata": {},
     "output_type": "display_data"
    },
    {
     "data": {
      "application/javascript": [
       "\n",
       "            setTimeout(function() {\n",
       "                var nbb_cell_id = 11;\n",
       "                var nbb_unformatted_code = \"client = Socrata(\\\"www.datos.gov.co\\\", None)\";\n",
       "                var nbb_formatted_code = \"client = Socrata(\\\"www.datos.gov.co\\\", None)\";\n",
       "                var nbb_cells = Jupyter.notebook.get_cells();\n",
       "                for (var i = 0; i < nbb_cells.length; ++i) {\n",
       "                    if (nbb_cells[i].input_prompt_number == nbb_cell_id) {\n",
       "                        if (nbb_cells[i].get_text() == nbb_unformatted_code) {\n",
       "                             nbb_cells[i].set_text(nbb_formatted_code);\n",
       "                        }\n",
       "                        break;\n",
       "                    }\n",
       "                }\n",
       "            }, 500);\n",
       "            "
      ]
     },
     "metadata": {},
     "output_type": "display_data"
    }
   ],
   "source": [
    "client = Socrata(\"www.datos.gov.co\", None)"
   ]
  },
  {
   "cell_type": "code",
   "execution_count": 12,
   "id": "a9d5bbe4",
   "metadata": {},
   "outputs": [
    {
     "data": {
      "text/html": [
       "<pre style=\"white-space:pre;overflow-x:auto;line-height:normal;font-family:Menlo,'DejaVu Sans Mono',consolas,'Courier New',monospace\"><span style=\"font-weight: bold\">&lt;</span><span style=\"color: #ff00ff; text-decoration-color: #ff00ff; font-weight: bold\">IPython.core.display.Javascript</span><span style=\"color: #000000; text-decoration-color: #000000\"> object</span><span style=\"font-weight: bold\">&gt;</span>\n",
       "</pre>\n"
      ],
      "text/plain": [
       "\u001b[1m<\u001b[0m\u001b[1;95mIPython.core.display.Javascript\u001b[0m\u001b[39m object\u001b[0m\u001b[1m>\u001b[0m\n"
      ]
     },
     "metadata": {},
     "output_type": "display_data"
    },
    {
     "data": {
      "application/javascript": [
       "\n",
       "            setTimeout(function() {\n",
       "                var nbb_cell_id = 12;\n",
       "                var nbb_unformatted_code = \"from secop.pipelines.data_engineering.utilities import COLS_SEC_2, COLS_INT\";\n",
       "                var nbb_formatted_code = \"from secop.pipelines.data_engineering.utilities import COLS_SEC_2, COLS_INT\";\n",
       "                var nbb_cells = Jupyter.notebook.get_cells();\n",
       "                for (var i = 0; i < nbb_cells.length; ++i) {\n",
       "                    if (nbb_cells[i].input_prompt_number == nbb_cell_id) {\n",
       "                        if (nbb_cells[i].get_text() == nbb_unformatted_code) {\n",
       "                             nbb_cells[i].set_text(nbb_formatted_code);\n",
       "                        }\n",
       "                        break;\n",
       "                    }\n",
       "                }\n",
       "            }, 500);\n",
       "            "
      ]
     },
     "metadata": {},
     "output_type": "display_data"
    }
   ],
   "source": [
    "from secop.pipelines.data_engineering.utilities import COLS_SEC_2, COLS_INT"
   ]
  },
  {
   "cell_type": "code",
   "execution_count": 18,
   "id": "539b0122",
   "metadata": {},
   "outputs": [
    {
     "name": "stdout",
     "output_type": "stream",
     "text": [
      "req - 0 - 2022-07-14 15:14:40.556110\n",
      "req - 2000 - 2022-07-14 15:14:40.895609\n"
     ]
    },
    {
     "data": {
      "text/html": [
       "<pre style=\"white-space:pre;overflow-x:auto;line-height:normal;font-family:Menlo,'DejaVu Sans Mono',consolas,'Courier New',monospace\"><span style=\"font-weight: bold\">&lt;</span><span style=\"color: #ff00ff; text-decoration-color: #ff00ff; font-weight: bold\">IPython.core.display.Javascript</span><span style=\"color: #000000; text-decoration-color: #000000\"> object</span><span style=\"font-weight: bold\">&gt;</span>\n",
       "</pre>\n"
      ],
      "text/plain": [
       "\u001b[1m<\u001b[0m\u001b[1;95mIPython.core.display.Javascript\u001b[0m\u001b[39m object\u001b[0m\u001b[1m>\u001b[0m\n"
      ]
     },
     "metadata": {},
     "output_type": "display_data"
    },
    {
     "data": {
      "application/javascript": [
       "\n",
       "            setTimeout(function() {\n",
       "                var nbb_cell_id = 18;\n",
       "                var nbb_unformatted_code = \"lim = 2000\\noffset = lim\\nprint(f\\\"req - {offset-lim} - {datetime.datetime.now()}\\\")\\nrequest = client.get(\\n    CODE_INTEGRATED,\\n    limit=lim,\\n    select=\\\", \\\".join(COLS_INT),\\n    where='nit_de_la_entidad = \\\"' + nit_to_extract + '\\\"',\\n)\\nrequest_df = pd.DataFrame.from_records(request)\\nresults_df = request_df.copy()\\nwhile len(request_df) > 0:\\n    print(f\\\"req - {offset} - {datetime.datetime.now()}\\\")\\n    request = client.get(\\n        CODE_INTEGRATED,\\n        limit=lim,\\n        offset=offset,\\n        select=\\\", \\\".join(COLS_INT),\\n        where='nit_de_la_entidad = \\\"' + nit_to_extract + '\\\"',\\n    )\\n    request_df = pd.DataFrame.from_records(request)\\n    results_df = pd.concat([results_df, request_df], ignore_index=True)\\n    offset += lim\";\n",
       "                var nbb_formatted_code = \"lim = 2000\\noffset = lim\\nprint(f\\\"req - {offset-lim} - {datetime.datetime.now()}\\\")\\nrequest = client.get(\\n    CODE_INTEGRATED,\\n    limit=lim,\\n    select=\\\", \\\".join(COLS_INT),\\n    where='nit_de_la_entidad = \\\"' + nit_to_extract + '\\\"',\\n)\\nrequest_df = pd.DataFrame.from_records(request)\\nresults_df = request_df.copy()\\nwhile len(request_df) > 0:\\n    print(f\\\"req - {offset} - {datetime.datetime.now()}\\\")\\n    request = client.get(\\n        CODE_INTEGRATED,\\n        limit=lim,\\n        offset=offset,\\n        select=\\\", \\\".join(COLS_INT),\\n        where='nit_de_la_entidad = \\\"' + nit_to_extract + '\\\"',\\n    )\\n    request_df = pd.DataFrame.from_records(request)\\n    results_df = pd.concat([results_df, request_df], ignore_index=True)\\n    offset += lim\";\n",
       "                var nbb_cells = Jupyter.notebook.get_cells();\n",
       "                for (var i = 0; i < nbb_cells.length; ++i) {\n",
       "                    if (nbb_cells[i].input_prompt_number == nbb_cell_id) {\n",
       "                        if (nbb_cells[i].get_text() == nbb_unformatted_code) {\n",
       "                             nbb_cells[i].set_text(nbb_formatted_code);\n",
       "                        }\n",
       "                        break;\n",
       "                    }\n",
       "                }\n",
       "            }, 500);\n",
       "            "
      ]
     },
     "metadata": {},
     "output_type": "display_data"
    }
   ],
   "source": [
    "lim = 2000\n",
    "offset = lim\n",
    "print(f\"req - {offset-lim} - {datetime.datetime.now()}\")\n",
    "request = client.get(\n",
    "    CODE_INTEGRATED,\n",
    "    limit=lim,\n",
    "    select=\", \".join(COLS_INT),\n",
    "    where='nit_de_la_entidad = \"' + nit_to_extract + '\"',\n",
    ")\n",
    "request_df = pd.DataFrame.from_records(request)\n",
    "results_df = request_df.copy()\n",
    "while len(request_df) > 0:\n",
    "    print(f\"req - {offset} - {datetime.datetime.now()}\")\n",
    "    request = client.get(\n",
    "        CODE_INTEGRATED,\n",
    "        limit=lim,\n",
    "        offset=offset,\n",
    "        select=\", \".join(COLS_INT),\n",
    "        where='nit_de_la_entidad = \"' + nit_to_extract + '\"',\n",
    "    )\n",
    "    request_df = pd.DataFrame.from_records(request)\n",
    "    results_df = pd.concat([results_df, request_df], ignore_index=True)\n",
    "    offset += lim"
   ]
  },
  {
   "cell_type": "code",
   "execution_count": 19,
   "id": "8427475a",
   "metadata": {},
   "outputs": [
    {
     "data": {
      "text/html": [
       "<div>\n",
       "<style scoped>\n",
       "    .dataframe tbody tr th:only-of-type {\n",
       "        vertical-align: middle;\n",
       "    }\n",
       "\n",
       "    .dataframe tbody tr th {\n",
       "        vertical-align: top;\n",
       "    }\n",
       "\n",
       "    .dataframe thead th {\n",
       "        text-align: right;\n",
       "    }\n",
       "</style>\n",
       "<table border=\"1\" class=\"dataframe\">\n",
       "  <thead>\n",
       "    <tr style=\"text-align: right;\">\n",
       "      <th></th>\n",
       "      <th>nivel_entidad</th>\n",
       "      <th>nombre_de_la_entidad</th>\n",
       "      <th>nit_de_la_entidad</th>\n",
       "      <th>estado_del_proceso</th>\n",
       "      <th>modalidad_de_contrataci_n</th>\n",
       "      <th>objeto_a_contratar</th>\n",
       "      <th>tipo_de_contrato</th>\n",
       "      <th>numero_del_contrato</th>\n",
       "      <th>numero_de_proceso</th>\n",
       "      <th>valor_contrato</th>\n",
       "      <th>nom_raz_social_contratista</th>\n",
       "      <th>departamento_entidad</th>\n",
       "      <th>municipio_entidad</th>\n",
       "      <th>objeto_del_proceso</th>\n",
       "      <th>tipo_contrato</th>\n",
       "      <th>origen</th>\n",
       "    </tr>\n",
       "  </thead>\n",
       "  <tbody>\n",
       "    <tr>\n",
       "      <th>0</th>\n",
       "      <td>No Definido</td>\n",
       "      <td>Soporte CCE</td>\n",
       "      <td>0000000000001</td>\n",
       "      <td>Borrador</td>\n",
       "      <td>No Definido</td>\n",
       "      <td>No Definido</td>\n",
       "      <td>No Especificado</td>\n",
       "      <td>CO1.PCCNTR.1254001</td>\n",
       "      <td>Desconocido</td>\n",
       "      <td>0</td>\n",
       "      <td>No Definido</td>\n",
       "      <td>Distrito Capital de Bogotá</td>\n",
       "      <td>No Definido</td>\n",
       "      <td>Sin Descripcion</td>\n",
       "      <td>No Especificado</td>\n",
       "      <td>SECOP II</td>\n",
       "    </tr>\n",
       "    <tr>\n",
       "      <th>1</th>\n",
       "      <td>No Definido</td>\n",
       "      <td>Soporte CCE</td>\n",
       "      <td>0000000000001</td>\n",
       "      <td>Borrador</td>\n",
       "      <td>No Definido</td>\n",
       "      <td>No Definido</td>\n",
       "      <td>No Especificado</td>\n",
       "      <td>CO1.PCCNTR.1254002</td>\n",
       "      <td>Desconocido</td>\n",
       "      <td>0</td>\n",
       "      <td>No Definido</td>\n",
       "      <td>Distrito Capital de Bogotá</td>\n",
       "      <td>No Definido</td>\n",
       "      <td>Sin Descripcion</td>\n",
       "      <td>No Especificado</td>\n",
       "      <td>SECOP II</td>\n",
       "    </tr>\n",
       "    <tr>\n",
       "      <th>2</th>\n",
       "      <td>No Definido</td>\n",
       "      <td>Soporte CCE</td>\n",
       "      <td>0000000000001</td>\n",
       "      <td>Borrador</td>\n",
       "      <td>No Definido</td>\n",
       "      <td>No Definido</td>\n",
       "      <td>No Especificado</td>\n",
       "      <td>CO1.PCCNTR.1797601</td>\n",
       "      <td>Desconocido</td>\n",
       "      <td>0</td>\n",
       "      <td>No Definido</td>\n",
       "      <td>Distrito Capital de Bogotá</td>\n",
       "      <td>No Definido</td>\n",
       "      <td>Sin Descripcion</td>\n",
       "      <td>No Especificado</td>\n",
       "      <td>SECOP II</td>\n",
       "    </tr>\n",
       "    <tr>\n",
       "      <th>3</th>\n",
       "      <td>No Definido</td>\n",
       "      <td>Soporte CCE</td>\n",
       "      <td>0000000000001</td>\n",
       "      <td>Borrador</td>\n",
       "      <td>No Definido</td>\n",
       "      <td>No Definido</td>\n",
       "      <td>No Especificado</td>\n",
       "      <td>CO1.PCCNTR.189801</td>\n",
       "      <td>Desconocido</td>\n",
       "      <td>0</td>\n",
       "      <td>No Definido</td>\n",
       "      <td>Distrito Capital de Bogotá</td>\n",
       "      <td>No Definido</td>\n",
       "      <td>Sin Descripcion</td>\n",
       "      <td>No Especificado</td>\n",
       "      <td>SECOP II</td>\n",
       "    </tr>\n",
       "    <tr>\n",
       "      <th>4</th>\n",
       "      <td>No Definido</td>\n",
       "      <td>Soporte CCE</td>\n",
       "      <td>0000000000001</td>\n",
       "      <td>Borrador</td>\n",
       "      <td>No Definido</td>\n",
       "      <td>No Definido</td>\n",
       "      <td>No Especificado</td>\n",
       "      <td>CO1.PCCNTR.169901</td>\n",
       "      <td>Desconocido</td>\n",
       "      <td>0</td>\n",
       "      <td>No Definido</td>\n",
       "      <td>Distrito Capital de Bogotá</td>\n",
       "      <td>No Definido</td>\n",
       "      <td>Sin Descripcion</td>\n",
       "      <td>No Especificado</td>\n",
       "      <td>SECOP II</td>\n",
       "    </tr>\n",
       "    <tr>\n",
       "      <th>5</th>\n",
       "      <td>No Definido</td>\n",
       "      <td>Soporte CCE</td>\n",
       "      <td>0000000000001</td>\n",
       "      <td>Borrador</td>\n",
       "      <td>No Definido</td>\n",
       "      <td>No Definido</td>\n",
       "      <td>No Especificado</td>\n",
       "      <td>CO1.PCCNTR.3432901</td>\n",
       "      <td>Desconocido</td>\n",
       "      <td>0</td>\n",
       "      <td>No Definido</td>\n",
       "      <td>Distrito Capital de Bogotá</td>\n",
       "      <td>No Definido</td>\n",
       "      <td>Sin Descripcion</td>\n",
       "      <td>No Especificado</td>\n",
       "      <td>SECOP II</td>\n",
       "    </tr>\n",
       "    <tr>\n",
       "      <th>6</th>\n",
       "      <td>No Definido</td>\n",
       "      <td>Soporte CCE</td>\n",
       "      <td>0000000000001</td>\n",
       "      <td>Borrador</td>\n",
       "      <td>No Definido</td>\n",
       "      <td>No Definido</td>\n",
       "      <td>No Especificado</td>\n",
       "      <td>CO1.PCCNTR.236301</td>\n",
       "      <td>Desconocido</td>\n",
       "      <td>0</td>\n",
       "      <td>No Definido</td>\n",
       "      <td>Distrito Capital de Bogotá</td>\n",
       "      <td>No Definido</td>\n",
       "      <td>Sin Descripcion</td>\n",
       "      <td>No Especificado</td>\n",
       "      <td>SECOP II</td>\n",
       "    </tr>\n",
       "  </tbody>\n",
       "</table>\n",
       "</div>"
      ]
     },
     "execution_count": 19,
     "metadata": {},
     "output_type": "execute_result"
    },
    {
     "data": {
      "text/html": [
       "<pre style=\"white-space:pre;overflow-x:auto;line-height:normal;font-family:Menlo,'DejaVu Sans Mono',consolas,'Courier New',monospace\"><span style=\"font-weight: bold\">&lt;</span><span style=\"color: #ff00ff; text-decoration-color: #ff00ff; font-weight: bold\">IPython.core.display.Javascript</span><span style=\"color: #000000; text-decoration-color: #000000\"> object</span><span style=\"font-weight: bold\">&gt;</span>\n",
       "</pre>\n"
      ],
      "text/plain": [
       "\u001b[1m<\u001b[0m\u001b[1;95mIPython.core.display.Javascript\u001b[0m\u001b[39m object\u001b[0m\u001b[1m>\u001b[0m\n"
      ]
     },
     "metadata": {},
     "output_type": "display_data"
    },
    {
     "data": {
      "application/javascript": [
       "\n",
       "            setTimeout(function() {\n",
       "                var nbb_cell_id = 19;\n",
       "                var nbb_unformatted_code = \"results_df\";\n",
       "                var nbb_formatted_code = \"results_df\";\n",
       "                var nbb_cells = Jupyter.notebook.get_cells();\n",
       "                for (var i = 0; i < nbb_cells.length; ++i) {\n",
       "                    if (nbb_cells[i].input_prompt_number == nbb_cell_id) {\n",
       "                        if (nbb_cells[i].get_text() == nbb_unformatted_code) {\n",
       "                             nbb_cells[i].set_text(nbb_formatted_code);\n",
       "                        }\n",
       "                        break;\n",
       "                    }\n",
       "                }\n",
       "            }, 500);\n",
       "            "
      ]
     },
     "metadata": {},
     "output_type": "display_data"
    }
   ],
   "source": [
    "results_df"
   ]
  },
  {
   "cell_type": "code",
   "execution_count": 16,
   "id": "689f4ca4",
   "metadata": {},
   "outputs": [
    {
     "data": {
      "text/html": [
       "<pre style=\"white-space:pre;overflow-x:auto;line-height:normal;font-family:Menlo,'DejaVu Sans Mono',consolas,'Courier New',monospace\"><span style=\"color: #008000; text-decoration-color: #008000\">'nivel_entidad, nombre_de_la_entidad, nit_de_la_entidad, estado_del_proceso, modalidad_de_contrataci_n, objeto_a_contratar, tipo_de_contrato, numero_del_contrato, numero_de_proceso, valor_contrato, nom_raz_social_contratista, departamento_entidad, municipio_entidad, objeto_del_proceso, tipo_contrato, origen, fecha_de_firma_del_contrato, fecha_inicio_ejecucion, fecha_fin_ejecucion'</span>\n",
       "</pre>\n"
      ],
      "text/plain": [
       "\u001b[32m'nivel_entidad, nombre_de_la_entidad, nit_de_la_entidad, estado_del_proceso, modalidad_de_contrataci_n, objeto_a_contratar, tipo_de_contrato, numero_del_contrato, numero_de_proceso, valor_contrato, nom_raz_social_contratista, departamento_entidad, municipio_entidad, objeto_del_proceso, tipo_contrato, origen, fecha_de_firma_del_contrato, fecha_inicio_ejecucion, fecha_fin_ejecucion'\u001b[0m\n"
      ]
     },
     "metadata": {},
     "output_type": "display_data"
    },
    {
     "data": {
      "text/html": [
       "<pre style=\"white-space:pre;overflow-x:auto;line-height:normal;font-family:Menlo,'DejaVu Sans Mono',consolas,'Courier New',monospace\"><span style=\"font-weight: bold\">&lt;</span><span style=\"color: #ff00ff; text-decoration-color: #ff00ff; font-weight: bold\">IPython.core.display.Javascript</span><span style=\"color: #000000; text-decoration-color: #000000\"> object</span><span style=\"font-weight: bold\">&gt;</span>\n",
       "</pre>\n"
      ],
      "text/plain": [
       "\u001b[1m<\u001b[0m\u001b[1;95mIPython.core.display.Javascript\u001b[0m\u001b[39m object\u001b[0m\u001b[1m>\u001b[0m\n"
      ]
     },
     "metadata": {},
     "output_type": "display_data"
    },
    {
     "data": {
      "application/javascript": [
       "\n",
       "            setTimeout(function() {\n",
       "                var nbb_cell_id = 16;\n",
       "                var nbb_unformatted_code = \"\\\", \\\".join(COLS_INT)\";\n",
       "                var nbb_formatted_code = \"\\\", \\\".join(COLS_INT)\";\n",
       "                var nbb_cells = Jupyter.notebook.get_cells();\n",
       "                for (var i = 0; i < nbb_cells.length; ++i) {\n",
       "                    if (nbb_cells[i].input_prompt_number == nbb_cell_id) {\n",
       "                        if (nbb_cells[i].get_text() == nbb_unformatted_code) {\n",
       "                             nbb_cells[i].set_text(nbb_formatted_code);\n",
       "                        }\n",
       "                        break;\n",
       "                    }\n",
       "                }\n",
       "            }, 500);\n",
       "            "
      ]
     },
     "metadata": {},
     "output_type": "display_data"
    }
   ],
   "source": [
    "\", \".join(COLS_INT)"
   ]
  },
  {
   "cell_type": "code",
   "execution_count": 14,
   "id": "315cc10f",
   "metadata": {},
   "outputs": [
    {
     "data": {
      "text/html": [
       "<pre style=\"white-space:pre;overflow-x:auto;line-height:normal;font-family:Menlo,'DejaVu Sans Mono',consolas,'Courier New',monospace\"><span style=\"font-weight: bold\">&lt;</span><span style=\"color: #ff00ff; text-decoration-color: #ff00ff; font-weight: bold\">IPython.core.display.Javascript</span><span style=\"color: #000000; text-decoration-color: #000000\"> object</span><span style=\"font-weight: bold\">&gt;</span>\n",
       "</pre>\n"
      ],
      "text/plain": [
       "\u001b[1m<\u001b[0m\u001b[1;95mIPython.core.display.Javascript\u001b[0m\u001b[39m object\u001b[0m\u001b[1m>\u001b[0m\n"
      ]
     },
     "metadata": {},
     "output_type": "display_data"
    },
    {
     "data": {
      "application/javascript": [
       "\n",
       "            setTimeout(function() {\n",
       "                var nbb_cell_id = 14;\n",
       "                var nbb_unformatted_code = \"if len(nits_to_extract) > 0:\\n    nit_to_extract = nits_to_extract[0]\\nelse:\\n    list_dates = [(secop2_log[k][\\\"date\\\"], k) for k in secop2_log.keys()]\\n    list_dates.sort()\\n    nit_to_extract = list_dates[0][1]\";\n",
       "                var nbb_formatted_code = \"if len(nits_to_extract) > 0:\\n    nit_to_extract = nits_to_extract[0]\\nelse:\\n    list_dates = [(secop2_log[k][\\\"date\\\"], k) for k in secop2_log.keys()]\\n    list_dates.sort()\\n    nit_to_extract = list_dates[0][1]\";\n",
       "                var nbb_cells = Jupyter.notebook.get_cells();\n",
       "                for (var i = 0; i < nbb_cells.length; ++i) {\n",
       "                    if (nbb_cells[i].input_prompt_number == nbb_cell_id) {\n",
       "                        if (nbb_cells[i].get_text() == nbb_unformatted_code) {\n",
       "                             nbb_cells[i].set_text(nbb_formatted_code);\n",
       "                        }\n",
       "                        break;\n",
       "                    }\n",
       "                }\n",
       "            }, 500);\n",
       "            "
      ]
     },
     "metadata": {},
     "output_type": "display_data"
    }
   ],
   "source": []
  },
  {
   "cell_type": "code",
   "execution_count": 20,
   "id": "ba4e06d8",
   "metadata": {
    "scrolled": false
   },
   "outputs": [
    {
     "data": {
      "text/html": [
       "<pre style=\"white-space:pre;overflow-x:auto;line-height:normal;font-family:Menlo,'DejaVu Sans Mono',consolas,'Courier New',monospace\"><span style=\"color: #7fbfbf; text-decoration-color: #7fbfbf\">[07/13/22 17:14:12] </span><span style=\"color: #800000; text-decoration-color: #800000\">WARNING </span> Requests made without an app_token will be subject to strict throttling  <a href=\"file:///opt/homebrew/Caskroom/miniforge/base/envs/dm_project/lib/python3.10/site-packages/sodapy/socrata.py\" target=\"_blank\"><span style=\"color: #7f7f7f; text-decoration-color: #7f7f7f\">socrata.py</span></a><span style=\"color: #7f7f7f; text-decoration-color: #7f7f7f\">:</span><a href=\"file:///opt/homebrew/Caskroom/miniforge/base/envs/dm_project/lib/python3.10/site-packages/sodapy/socrata.py#63\" target=\"_blank\"><span style=\"color: #7f7f7f; text-decoration-color: #7f7f7f\">63</span></a>\n",
       "<span style=\"color: #7fbfbf; text-decoration-color: #7fbfbf\">                    </span>         limits.                                                                  <span style=\"color: #7f7f7f; text-decoration-color: #7f7f7f\">             </span>\n",
       "</pre>\n"
      ],
      "text/plain": [
       "\u001b[2;36m[07/13/22 17:14:12]\u001b[0m\u001b[2;36m \u001b[0m\u001b[31mWARNING \u001b[0m Requests made without an app_token will be subject to strict throttling  \u001b]8;id=934206;file:///opt/homebrew/Caskroom/miniforge/base/envs/dm_project/lib/python3.10/site-packages/sodapy/socrata.py\u001b\\\u001b[2msocrata.py\u001b[0m\u001b]8;;\u001b\\\u001b[2m:\u001b[0m\u001b]8;id=152846;file:///opt/homebrew/Caskroom/miniforge/base/envs/dm_project/lib/python3.10/site-packages/sodapy/socrata.py#63\u001b\\\u001b[2m63\u001b[0m\u001b]8;;\u001b\\\n",
       "\u001b[2;36m                    \u001b[0m         limits.                                                                  \u001b[2m             \u001b[0m\n"
      ]
     },
     "metadata": {},
     "output_type": "display_data"
    },
    {
     "name": "stdout",
     "output_type": "stream",
     "text": [
      "req - 0 - 2022-07-13 17:14:12.366154\n",
      "req - 2000 - 2022-07-13 17:14:13.784813\n"
     ]
    },
    {
     "data": {
      "text/html": [
       "<pre style=\"white-space:pre;overflow-x:auto;line-height:normal;font-family:Menlo,'DejaVu Sans Mono',consolas,'Courier New',monospace\"><span style=\"font-weight: bold\">&lt;</span><span style=\"color: #ff00ff; text-decoration-color: #ff00ff; font-weight: bold\">IPython.core.display.Javascript</span><span style=\"color: #000000; text-decoration-color: #000000\"> object</span><span style=\"font-weight: bold\">&gt;</span>\n",
       "</pre>\n"
      ],
      "text/plain": [
       "\u001b[1m<\u001b[0m\u001b[1;95mIPython.core.display.Javascript\u001b[0m\u001b[39m object\u001b[0m\u001b[1m>\u001b[0m\n"
      ]
     },
     "metadata": {},
     "output_type": "display_data"
    },
    {
     "data": {
      "application/javascript": [
       "\n",
       "            setTimeout(function() {\n",
       "                var nbb_cell_id = 20;\n",
       "                var nbb_unformatted_code = \"client = Socrata(\\\"www.datos.gov.co\\\", None)\\nlim = 2000\\noffset = lim\\nprint(f\\\"req - {offset-lim} - {datetime.datetime.now()}\\\")\\nrequest = client.get(CODE_SECOPII, limit=lim, where='nit_entidad = \\\"' + nit_to_extract+'\\\"')\\nrequest_df = pd.DataFrame.from_records(request)\\nresults_df = request_df.copy()\\nwhile len(request_df) > 0:\\n    print(f\\\"req - {offset} - {datetime.datetime.now()}\\\")\\n    request = client.get(\\n        CODE_SECOPII, limit=lim, offset=offset, where='nit_entidad = \\\"' + nit_to_extract+'\\\"'\\n    )\\n    request_df = pd.DataFrame.from_records(request)\\n    results_df = pd.concat([results_df, request_df], ignore_index=True)\\n    offset += lim\";\n",
       "                var nbb_formatted_code = \"client = Socrata(\\\"www.datos.gov.co\\\", None)\\nlim = 2000\\noffset = lim\\nprint(f\\\"req - {offset-lim} - {datetime.datetime.now()}\\\")\\nrequest = client.get(\\n    CODE_SECOPII, limit=lim, where='nit_entidad = \\\"' + nit_to_extract + '\\\"'\\n)\\nrequest_df = pd.DataFrame.from_records(request)\\nresults_df = request_df.copy()\\nwhile len(request_df) > 0:\\n    print(f\\\"req - {offset} - {datetime.datetime.now()}\\\")\\n    request = client.get(\\n        CODE_SECOPII,\\n        limit=lim,\\n        offset=offset,\\n        where='nit_entidad = \\\"' + nit_to_extract + '\\\"',\\n    )\\n    request_df = pd.DataFrame.from_records(request)\\n    results_df = pd.concat([results_df, request_df], ignore_index=True)\\n    offset += lim\";\n",
       "                var nbb_cells = Jupyter.notebook.get_cells();\n",
       "                for (var i = 0; i < nbb_cells.length; ++i) {\n",
       "                    if (nbb_cells[i].input_prompt_number == nbb_cell_id) {\n",
       "                        if (nbb_cells[i].get_text() == nbb_unformatted_code) {\n",
       "                             nbb_cells[i].set_text(nbb_formatted_code);\n",
       "                        }\n",
       "                        break;\n",
       "                    }\n",
       "                }\n",
       "            }, 500);\n",
       "            "
      ]
     },
     "metadata": {},
     "output_type": "display_data"
    }
   ],
   "source": [
    "\n",
    "client = Socrata(\"www.datos.gov.co\", None)\n",
    "lim = 2000\n",
    "offset = lim\n",
    "print(f\"req - {offset-lim} - {datetime.datetime.now()}\")\n",
    "request = client.get(\n",
    "    CODE_SECOPII, limit=lim, where='nit_entidad = \"' + nit_to_extract + '\"'\n",
    ")\n",
    "request_df = pd.DataFrame.from_records(request)\n",
    "results_df = request_df.copy()\n",
    "while len(request_df) > 0:\n",
    "    print(f\"req - {offset} - {datetime.datetime.now()}\")\n",
    "    request = client.get(\n",
    "        CODE_SECOPII,\n",
    "        limit=lim,\n",
    "        offset=offset,\n",
    "        where='nit_entidad = \"' + nit_to_extract + '\"',\n",
    "    )\n",
    "    request_df = pd.DataFrame.from_records(request)\n",
    "    results_df = pd.concat([results_df, request_df], ignore_index=True)\n",
    "    offset += lim\n",
    "    \n",
    "secop2_log[nit_to_extract][\"req\"] = 1\n",
    "secop2_log[nit_to_extract][\"date\"] = str(datetime.datetime.now())\n",
    "spark = SparkSession.builder.getOrCreate()\n",
    "sql_ctx = SQLContext(spark.sparkContext)\n",
    "#return secop2_log, sql_ctx.createDataFrame(results_df)"
   ]
  },
  {
   "cell_type": "code",
   "execution_count": 24,
   "id": "da6d51b2",
   "metadata": {},
   "outputs": [
    {
     "data": {
      "text/html": [
       "<pre style=\"white-space:pre;overflow-x:auto;line-height:normal;font-family:Menlo,'DejaVu Sans Mono',consolas,'Courier New',monospace\"><span style=\"font-weight: bold\">&lt;</span><span style=\"color: #ff00ff; text-decoration-color: #ff00ff; font-weight: bold\">IPython.core.display.Javascript</span><span style=\"color: #000000; text-decoration-color: #000000\"> object</span><span style=\"font-weight: bold\">&gt;</span>\n",
       "</pre>\n"
      ],
      "text/plain": [
       "\u001b[1m<\u001b[0m\u001b[1;95mIPython.core.display.Javascript\u001b[0m\u001b[39m object\u001b[0m\u001b[1m>\u001b[0m\n"
      ]
     },
     "metadata": {},
     "output_type": "display_data"
    },
    {
     "data": {
      "application/javascript": [
       "\n",
       "            setTimeout(function() {\n",
       "                var nbb_cell_id = 24;\n",
       "                var nbb_unformatted_code = \"secop2_log[nit_to_extract]['req']=1\\nsecop2_log[nit_to_extract]['date']=str(datetime.datetime.now())\";\n",
       "                var nbb_formatted_code = \"secop2_log[nit_to_extract][\\\"req\\\"] = 1\\nsecop2_log[nit_to_extract][\\\"date\\\"] = str(datetime.datetime.now())\";\n",
       "                var nbb_cells = Jupyter.notebook.get_cells();\n",
       "                for (var i = 0; i < nbb_cells.length; ++i) {\n",
       "                    if (nbb_cells[i].input_prompt_number == nbb_cell_id) {\n",
       "                        if (nbb_cells[i].get_text() == nbb_unformatted_code) {\n",
       "                             nbb_cells[i].set_text(nbb_formatted_code);\n",
       "                        }\n",
       "                        break;\n",
       "                    }\n",
       "                }\n",
       "            }, 500);\n",
       "            "
      ]
     },
     "metadata": {},
     "output_type": "display_data"
    }
   ],
   "source": []
  },
  {
   "cell_type": "code",
   "execution_count": 36,
   "id": "df6208f0",
   "metadata": {},
   "outputs": [
    {
     "data": {
      "text/html": [
       "<pre style=\"white-space:pre;overflow-x:auto;line-height:normal;font-family:Menlo,'DejaVu Sans Mono',consolas,'Courier New',monospace\"><span style=\"font-weight: bold\">&lt;</span><span style=\"color: #ff00ff; text-decoration-color: #ff00ff; font-weight: bold\">IPython.core.display.Javascript</span><span style=\"color: #000000; text-decoration-color: #000000\"> object</span><span style=\"font-weight: bold\">&gt;</span>\n",
       "</pre>\n"
      ],
      "text/plain": [
       "\u001b[1m<\u001b[0m\u001b[1;95mIPython.core.display.Javascript\u001b[0m\u001b[39m object\u001b[0m\u001b[1m>\u001b[0m\n"
      ]
     },
     "metadata": {},
     "output_type": "display_data"
    },
    {
     "data": {
      "application/javascript": [
       "\n",
       "            setTimeout(function() {\n",
       "                var nbb_cell_id = 36;\n",
       "                var nbb_unformatted_code = \"results_df[[c for c in results_df.columns if \\\"fecha\\\" in c]] = results_df[[c for c in results_df.columns if \\\"fecha\\\" in c]].fillna(\\\"\\\")\";\n",
       "                var nbb_formatted_code = \"results_df[[c for c in results_df.columns if \\\"fecha\\\" in c]] = results_df[\\n    [c for c in results_df.columns if \\\"fecha\\\" in c]\\n].fillna(\\\"\\\")\";\n",
       "                var nbb_cells = Jupyter.notebook.get_cells();\n",
       "                for (var i = 0; i < nbb_cells.length; ++i) {\n",
       "                    if (nbb_cells[i].input_prompt_number == nbb_cell_id) {\n",
       "                        if (nbb_cells[i].get_text() == nbb_unformatted_code) {\n",
       "                             nbb_cells[i].set_text(nbb_formatted_code);\n",
       "                        }\n",
       "                        break;\n",
       "                    }\n",
       "                }\n",
       "            }, 500);\n",
       "            "
      ]
     },
     "metadata": {},
     "output_type": "display_data"
    }
   ],
   "source": [
    "results_df[[c for c in results_df.columns if \"fecha\" in c]] = results_df[\n",
    "    [c for c in results_df.columns if \"fecha\" in c]\n",
    "].fillna(\"\")"
   ]
  },
  {
   "cell_type": "code",
   "execution_count": 29,
   "id": "6e5a1258",
   "metadata": {
    "scrolled": true
   },
   "outputs": [
    {
     "data": {
      "text/html": [
       "<pre style=\"white-space:pre;overflow-x:auto;line-height:normal;font-family:Menlo,'DejaVu Sans Mono',consolas,'Courier New',monospace\">\n",
       "<span style=\"color: #008080; text-decoration-color: #008080; font-weight: bold\">0</span>                           \n",
       "<span style=\"color: #008080; text-decoration-color: #008080; font-weight: bold\">1</span>                           \n",
       "<span style=\"color: #008080; text-decoration-color: #008080; font-weight: bold\">2</span>    <span style=\"color: #008080; text-decoration-color: #008080; font-weight: bold\">2021</span>-<span style=\"color: #008080; text-decoration-color: #008080; font-weight: bold\">04</span>-26T<span style=\"color: #00ff00; text-decoration-color: #00ff00; font-weight: bold\">00:00:00</span>.<span style=\"color: #008080; text-decoration-color: #008080; font-weight: bold\">000</span>\n",
       "<span style=\"color: #008080; text-decoration-color: #008080; font-weight: bold\">3</span>    <span style=\"color: #008080; text-decoration-color: #008080; font-weight: bold\">2021</span>-<span style=\"color: #008080; text-decoration-color: #008080; font-weight: bold\">04</span>-27T<span style=\"color: #00ff00; text-decoration-color: #00ff00; font-weight: bold\">00:00:00</span>.<span style=\"color: #008080; text-decoration-color: #008080; font-weight: bold\">000</span>\n",
       "Name: fecha_de_publicacion_del, dtype: object\n",
       "</pre>\n"
      ],
      "text/plain": [
       "\n",
       "\u001b[1;36m0\u001b[0m                           \n",
       "\u001b[1;36m1\u001b[0m                           \n",
       "\u001b[1;36m2\u001b[0m    \u001b[1;36m2021\u001b[0m-\u001b[1;36m04\u001b[0m-26T\u001b[1;92m00:00:00\u001b[0m.\u001b[1;36m000\u001b[0m\n",
       "\u001b[1;36m3\u001b[0m    \u001b[1;36m2021\u001b[0m-\u001b[1;36m04\u001b[0m-27T\u001b[1;92m00:00:00\u001b[0m.\u001b[1;36m000\u001b[0m\n",
       "Name: fecha_de_publicacion_del, dtype: object\n"
      ]
     },
     "metadata": {},
     "output_type": "display_data"
    },
    {
     "data": {
      "text/html": [
       "<pre style=\"white-space:pre;overflow-x:auto;line-height:normal;font-family:Menlo,'DejaVu Sans Mono',consolas,'Courier New',monospace\"><span style=\"font-weight: bold\">&lt;</span><span style=\"color: #ff00ff; text-decoration-color: #ff00ff; font-weight: bold\">IPython.core.display.Javascript</span><span style=\"color: #000000; text-decoration-color: #000000\"> object</span><span style=\"font-weight: bold\">&gt;</span>\n",
       "</pre>\n"
      ],
      "text/plain": [
       "\u001b[1m<\u001b[0m\u001b[1;95mIPython.core.display.Javascript\u001b[0m\u001b[39m object\u001b[0m\u001b[1m>\u001b[0m\n"
      ]
     },
     "metadata": {},
     "output_type": "display_data"
    },
    {
     "data": {
      "application/javascript": [
       "\n",
       "            setTimeout(function() {\n",
       "                var nbb_cell_id = 29;\n",
       "                var nbb_unformatted_code = \"results_df[\\\"fecha_de_publicacion_del\\\"].fillna('')\";\n",
       "                var nbb_formatted_code = \"results_df[\\\"fecha_de_publicacion_del\\\"].fillna(\\\"\\\")\";\n",
       "                var nbb_cells = Jupyter.notebook.get_cells();\n",
       "                for (var i = 0; i < nbb_cells.length; ++i) {\n",
       "                    if (nbb_cells[i].input_prompt_number == nbb_cell_id) {\n",
       "                        if (nbb_cells[i].get_text() == nbb_unformatted_code) {\n",
       "                             nbb_cells[i].set_text(nbb_formatted_code);\n",
       "                        }\n",
       "                        break;\n",
       "                    }\n",
       "                }\n",
       "            }, 500);\n",
       "            "
      ]
     },
     "metadata": {},
     "output_type": "display_data"
    }
   ],
   "source": [
    "results_df[\"fecha_de_publicacion_del\"].fillna(\"\")"
   ]
  },
  {
   "cell_type": "code",
   "execution_count": 41,
   "id": "b6ade69b",
   "metadata": {},
   "outputs": [
    {
     "data": {
      "text/html": [
       "<pre style=\"white-space:pre;overflow-x:auto;line-height:normal;font-family:Menlo,'DejaVu Sans Mono',consolas,'Courier New',monospace\">\n",
       "<span style=\"color: #800080; text-decoration-color: #800080; font-weight: bold\">Index</span><span style=\"font-weight: bold\">([</span><span style=\"color: #008000; text-decoration-color: #008000\">'entidad'</span>, <span style=\"color: #008000; text-decoration-color: #008000\">'nit_entidad'</span>, <span style=\"color: #008000; text-decoration-color: #008000\">'departamento_entidad'</span>, <span style=\"color: #008000; text-decoration-color: #008000\">'ciudad_entidad'</span>,\n",
       "       <span style=\"color: #008000; text-decoration-color: #008000\">'ordenentidad'</span>, <span style=\"color: #008000; text-decoration-color: #008000\">'codigo_pci'</span>, <span style=\"color: #008000; text-decoration-color: #008000\">'id_del_proceso'</span>,\n",
       "       <span style=\"color: #008000; text-decoration-color: #008000\">'referencia_del_proceso'</span>, <span style=\"color: #008000; text-decoration-color: #008000\">'ppi'</span>, <span style=\"color: #008000; text-decoration-color: #008000\">'id_del_portafolio'</span>,\n",
       "       <span style=\"color: #008000; text-decoration-color: #008000\">'nombre_del_procedimiento'</span>, <span style=\"color: #008000; text-decoration-color: #008000\">'descripci_n_del_procedimiento'</span>, <span style=\"color: #008000; text-decoration-color: #008000\">'fase'</span>,\n",
       "       <span style=\"color: #008000; text-decoration-color: #008000\">'precio_base'</span>, <span style=\"color: #008000; text-decoration-color: #008000\">'modalidad_de_contratacion'</span>,\n",
       "       <span style=\"color: #008000; text-decoration-color: #008000\">'justificaci_n_modalidad_de'</span>, <span style=\"color: #008000; text-decoration-color: #008000\">'duracion'</span>, <span style=\"color: #008000; text-decoration-color: #008000\">'unidad_de_duracion'</span>,\n",
       "       <span style=\"color: #008000; text-decoration-color: #008000\">'ciudad_de_la_unidad_de'</span>, <span style=\"color: #008000; text-decoration-color: #008000\">'nombre_de_la_unidad_de'</span>,\n",
       "       <span style=\"color: #008000; text-decoration-color: #008000\">'proveedores_invitados'</span>, <span style=\"color: #008000; text-decoration-color: #008000\">'proveedores_con_invitacion'</span>,\n",
       "       <span style=\"color: #008000; text-decoration-color: #008000\">'visualizaciones_del'</span>, <span style=\"color: #008000; text-decoration-color: #008000\">'proveedores_que_manifestaron'</span>,\n",
       "       <span style=\"color: #008000; text-decoration-color: #008000\">'respuestas_al_procedimiento'</span>, <span style=\"color: #008000; text-decoration-color: #008000\">'respuestas_externas'</span>,\n",
       "       <span style=\"color: #008000; text-decoration-color: #008000\">'conteo_de_respuestas_a_ofertas'</span>, <span style=\"color: #008000; text-decoration-color: #008000\">'proveedores_unicos_con'</span>,\n",
       "       <span style=\"color: #008000; text-decoration-color: #008000\">'numero_de_lotes'</span>, <span style=\"color: #008000; text-decoration-color: #008000\">'estado_del_procedimiento'</span>,\n",
       "       <span style=\"color: #008000; text-decoration-color: #008000\">'id_estado_del_procedimiento'</span>, <span style=\"color: #008000; text-decoration-color: #008000\">'adjudicado'</span>, <span style=\"color: #008000; text-decoration-color: #008000\">'id_adjudicacion'</span>,\n",
       "       <span style=\"color: #008000; text-decoration-color: #008000\">'codigoproveedor'</span>, <span style=\"color: #008000; text-decoration-color: #008000\">'departamento_proveedor'</span>, <span style=\"color: #008000; text-decoration-color: #008000\">'ciudad_proveedor'</span>,\n",
       "       <span style=\"color: #008000; text-decoration-color: #008000\">'valor_total_adjudicacion'</span>, <span style=\"color: #008000; text-decoration-color: #008000\">'nombre_del_adjudicador'</span>,\n",
       "       <span style=\"color: #008000; text-decoration-color: #008000\">'nombre_del_proveedor'</span>, <span style=\"color: #008000; text-decoration-color: #008000\">'nit_del_proveedor_adjudicado'</span>,\n",
       "       <span style=\"color: #008000; text-decoration-color: #008000\">'codigo_principal_de_categoria'</span>, <span style=\"color: #008000; text-decoration-color: #008000\">'estado_de_apertura_del_proceso'</span>,\n",
       "       <span style=\"color: #008000; text-decoration-color: #008000\">'tipo_de_contrato'</span>, <span style=\"color: #008000; text-decoration-color: #008000\">'subtipo_de_contrato'</span>, <span style=\"color: #008000; text-decoration-color: #008000\">'categorias_adicionales'</span>,\n",
       "       <span style=\"color: #008000; text-decoration-color: #008000\">'codigo_entidad'</span>, <span style=\"color: #008000; text-decoration-color: #008000\">'estadoresumen'</span>, <span style=\"color: #008000; text-decoration-color: #008000\">'fecha_de_publicacion_del'</span>,\n",
       "       <span style=\"color: #008000; text-decoration-color: #008000\">'fecha_de_ultima_publicaci'</span>, <span style=\"color: #008000; text-decoration-color: #008000\">'fecha_de_publicacion_fase_3'</span>,\n",
       "       <span style=\"color: #008000; text-decoration-color: #008000\">'fecha_de_recepcion_de'</span>, <span style=\"color: #008000; text-decoration-color: #008000\">'fecha_de_apertura_efectiva'</span>, <span style=\"color: #008000; text-decoration-color: #008000\">'urlproceso'</span><span style=\"font-weight: bold\">]</span>,\n",
       "      <span style=\"color: #808000; text-decoration-color: #808000\">dtype</span>=<span style=\"color: #008000; text-decoration-color: #008000\">'object'</span><span style=\"font-weight: bold\">)</span>\n",
       "</pre>\n"
      ],
      "text/plain": [
       "\n",
       "\u001b[1;35mIndex\u001b[0m\u001b[1m(\u001b[0m\u001b[1m[\u001b[0m\u001b[32m'entidad'\u001b[0m, \u001b[32m'nit_entidad'\u001b[0m, \u001b[32m'departamento_entidad'\u001b[0m, \u001b[32m'ciudad_entidad'\u001b[0m,\n",
       "       \u001b[32m'ordenentidad'\u001b[0m, \u001b[32m'codigo_pci'\u001b[0m, \u001b[32m'id_del_proceso'\u001b[0m,\n",
       "       \u001b[32m'referencia_del_proceso'\u001b[0m, \u001b[32m'ppi'\u001b[0m, \u001b[32m'id_del_portafolio'\u001b[0m,\n",
       "       \u001b[32m'nombre_del_procedimiento'\u001b[0m, \u001b[32m'descripci_n_del_procedimiento'\u001b[0m, \u001b[32m'fase'\u001b[0m,\n",
       "       \u001b[32m'precio_base'\u001b[0m, \u001b[32m'modalidad_de_contratacion'\u001b[0m,\n",
       "       \u001b[32m'justificaci_n_modalidad_de'\u001b[0m, \u001b[32m'duracion'\u001b[0m, \u001b[32m'unidad_de_duracion'\u001b[0m,\n",
       "       \u001b[32m'ciudad_de_la_unidad_de'\u001b[0m, \u001b[32m'nombre_de_la_unidad_de'\u001b[0m,\n",
       "       \u001b[32m'proveedores_invitados'\u001b[0m, \u001b[32m'proveedores_con_invitacion'\u001b[0m,\n",
       "       \u001b[32m'visualizaciones_del'\u001b[0m, \u001b[32m'proveedores_que_manifestaron'\u001b[0m,\n",
       "       \u001b[32m'respuestas_al_procedimiento'\u001b[0m, \u001b[32m'respuestas_externas'\u001b[0m,\n",
       "       \u001b[32m'conteo_de_respuestas_a_ofertas'\u001b[0m, \u001b[32m'proveedores_unicos_con'\u001b[0m,\n",
       "       \u001b[32m'numero_de_lotes'\u001b[0m, \u001b[32m'estado_del_procedimiento'\u001b[0m,\n",
       "       \u001b[32m'id_estado_del_procedimiento'\u001b[0m, \u001b[32m'adjudicado'\u001b[0m, \u001b[32m'id_adjudicacion'\u001b[0m,\n",
       "       \u001b[32m'codigoproveedor'\u001b[0m, \u001b[32m'departamento_proveedor'\u001b[0m, \u001b[32m'ciudad_proveedor'\u001b[0m,\n",
       "       \u001b[32m'valor_total_adjudicacion'\u001b[0m, \u001b[32m'nombre_del_adjudicador'\u001b[0m,\n",
       "       \u001b[32m'nombre_del_proveedor'\u001b[0m, \u001b[32m'nit_del_proveedor_adjudicado'\u001b[0m,\n",
       "       \u001b[32m'codigo_principal_de_categoria'\u001b[0m, \u001b[32m'estado_de_apertura_del_proceso'\u001b[0m,\n",
       "       \u001b[32m'tipo_de_contrato'\u001b[0m, \u001b[32m'subtipo_de_contrato'\u001b[0m, \u001b[32m'categorias_adicionales'\u001b[0m,\n",
       "       \u001b[32m'codigo_entidad'\u001b[0m, \u001b[32m'estadoresumen'\u001b[0m, \u001b[32m'fecha_de_publicacion_del'\u001b[0m,\n",
       "       \u001b[32m'fecha_de_ultima_publicaci'\u001b[0m, \u001b[32m'fecha_de_publicacion_fase_3'\u001b[0m,\n",
       "       \u001b[32m'fecha_de_recepcion_de'\u001b[0m, \u001b[32m'fecha_de_apertura_efectiva'\u001b[0m, \u001b[32m'urlproceso'\u001b[0m\u001b[1m]\u001b[0m,\n",
       "      \u001b[33mdtype\u001b[0m=\u001b[32m'object'\u001b[0m\u001b[1m)\u001b[0m\n"
      ]
     },
     "metadata": {},
     "output_type": "display_data"
    },
    {
     "data": {
      "text/html": [
       "<pre style=\"white-space:pre;overflow-x:auto;line-height:normal;font-family:Menlo,'DejaVu Sans Mono',consolas,'Courier New',monospace\"><span style=\"font-weight: bold\">&lt;</span><span style=\"color: #ff00ff; text-decoration-color: #ff00ff; font-weight: bold\">IPython.core.display.Javascript</span><span style=\"color: #000000; text-decoration-color: #000000\"> object</span><span style=\"font-weight: bold\">&gt;</span>\n",
       "</pre>\n"
      ],
      "text/plain": [
       "\u001b[1m<\u001b[0m\u001b[1;95mIPython.core.display.Javascript\u001b[0m\u001b[39m object\u001b[0m\u001b[1m>\u001b[0m\n"
      ]
     },
     "metadata": {},
     "output_type": "display_data"
    },
    {
     "data": {
      "application/javascript": [
       "\n",
       "            setTimeout(function() {\n",
       "                var nbb_cell_id = 41;\n",
       "                var nbb_unformatted_code = \"results_df.columns\";\n",
       "                var nbb_formatted_code = \"results_df.columns\";\n",
       "                var nbb_cells = Jupyter.notebook.get_cells();\n",
       "                for (var i = 0; i < nbb_cells.length; ++i) {\n",
       "                    if (nbb_cells[i].input_prompt_number == nbb_cell_id) {\n",
       "                        if (nbb_cells[i].get_text() == nbb_unformatted_code) {\n",
       "                             nbb_cells[i].set_text(nbb_formatted_code);\n",
       "                        }\n",
       "                        break;\n",
       "                    }\n",
       "                }\n",
       "            }, 500);\n",
       "            "
      ]
     },
     "metadata": {},
     "output_type": "display_data"
    }
   ],
   "source": [
    "results_df.columns"
   ]
  },
  {
   "cell_type": "code",
   "execution_count": 50,
   "id": "aed4edde",
   "metadata": {
    "scrolled": true
   },
   "outputs": [
    {
     "data": {
      "text/html": [
       "<pre style=\"white-space:pre;overflow-x:auto;line-height:normal;font-family:Menlo,'DejaVu Sans Mono',consolas,'Courier New',monospace\">\n",
       "entidad                                                 Vortal Operations\n",
       "nit_entidad                                                     <span style=\"color: #008080; text-decoration-color: #008080; font-weight: bold\">000000001</span>\n",
       "departamento_entidad                                              Quindío\n",
       "ciudad_entidad                                                    Armenia\n",
       "ordenentidad                                                  Territorial\n",
       "codigo_pci                                                             Si\n",
       "id_del_proceso                                             CO1.REQ.<span style=\"color: #008080; text-decoration-color: #008080; font-weight: bold\">948804</span>\n",
       "referencia_del_proceso                                     CMA_MFR_2808_2\n",
       "ppi                                                                    ND\n",
       "id_del_portafolio                                         CO1.BDOS.<span style=\"color: #008080; text-decoration-color: #008080; font-weight: bold\">915520</span>\n",
       "nombre_del_procedimiento                                       CMAMFR2808\n",
       "descripci_n_del_procedimiento                                  CMAMFR2808\n",
       "fase                                                          No Definido\n",
       "precio_base                                                            <span style=\"color: #008080; text-decoration-color: #008080; font-weight: bold\">-1</span>\n",
       "modalidad_de_contratacion         Concurso de méritos con precalificación\n",
       "justificaci_n_modalidad_de                               Ley <span style=\"color: #008080; text-decoration-color: #008080; font-weight: bold\">1150</span> de <span style=\"color: #008080; text-decoration-color: #008080; font-weight: bold\">2007</span>\n",
       "duracion                                                                <span style=\"color: #008080; text-decoration-color: #008080; font-weight: bold\">0</span>\n",
       "unidad_de_duracion                                                     ND\n",
       "ciudad_de_la_unidad_de                                        No definida\n",
       "nombre_de_la_unidad_de                                               CC01\n",
       "proveedores_invitados                                                   <span style=\"color: #008080; text-decoration-color: #008080; font-weight: bold\">0</span>\n",
       "proveedores_con_invitacion                                              <span style=\"color: #008080; text-decoration-color: #008080; font-weight: bold\">0</span>\n",
       "visualizaciones_del                                                     <span style=\"color: #008080; text-decoration-color: #008080; font-weight: bold\">0</span>\n",
       "proveedores_que_manifestaron                                            <span style=\"color: #008080; text-decoration-color: #008080; font-weight: bold\">0</span>\n",
       "respuestas_al_procedimiento                                             <span style=\"color: #008080; text-decoration-color: #008080; font-weight: bold\">0</span>\n",
       "respuestas_externas                                                     <span style=\"color: #008080; text-decoration-color: #008080; font-weight: bold\">0</span>\n",
       "conteo_de_respuestas_a_ofertas                                          <span style=\"color: #008080; text-decoration-color: #008080; font-weight: bold\">0</span>\n",
       "proveedores_unicos_con                                                  <span style=\"color: #008080; text-decoration-color: #008080; font-weight: bold\">0</span>\n",
       "numero_de_lotes                                                         <span style=\"color: #008080; text-decoration-color: #008080; font-weight: bold\">0</span>\n",
       "estado_del_procedimiento                                      No Definido\n",
       "id_estado_del_procedimiento                                           <span style=\"color: #008080; text-decoration-color: #008080; font-weight: bold\">110</span>\n",
       "adjudicado                                                             No\n",
       "id_adjudicacion                                             No Adjudicado\n",
       "codigoproveedor                                             No Adjudicado\n",
       "departamento_proveedor                                          No aplica\n",
       "ciudad_proveedor                                                No aplica\n",
       "valor_total_adjudicacion                                                <span style=\"color: #008080; text-decoration-color: #008080; font-weight: bold\">0</span>\n",
       "nombre_del_adjudicador                                      No Adjudicado\n",
       "nombre_del_proveedor                                        No Adjudicado\n",
       "nit_del_proveedor_adjudicado                                No Adjudicado\n",
       "codigo_principal_de_categoria                                 V1.<span style=\"color: #008080; text-decoration-color: #008080; font-weight: bold\">10101500</span>\n",
       "estado_de_apertura_del_proceso                                    Abierto\n",
       "tipo_de_contrato                                              Consultoría\n",
       "subtipo_de_contrato                                       No Especificado\n",
       "categorias_adicionales                                                 ND\n",
       "codigo_entidad                                                  <span style=\"color: #008080; text-decoration-color: #008080; font-weight: bold\">700003015</span>\n",
       "estadoresumen                                                 No Definido\n",
       "fecha_de_publicacion_del                                                 \n",
       "fecha_de_ultima_publicaci                                                \n",
       "fecha_de_publicacion_fase_3                                              \n",
       "fecha_de_recepcion_de                                                    \n",
       "fecha_de_apertura_efectiva                                               \n",
       "urlproceso                                                            NaN\n",
       "Name: <span style=\"color: #008080; text-decoration-color: #008080; font-weight: bold\">0</span>, dtype: object\n",
       "</pre>\n"
      ],
      "text/plain": [
       "\n",
       "entidad                                                 Vortal Operations\n",
       "nit_entidad                                                     \u001b[1;36m000000001\u001b[0m\n",
       "departamento_entidad                                              Quindío\n",
       "ciudad_entidad                                                    Armenia\n",
       "ordenentidad                                                  Territorial\n",
       "codigo_pci                                                             Si\n",
       "id_del_proceso                                             CO1.REQ.\u001b[1;36m948804\u001b[0m\n",
       "referencia_del_proceso                                     CMA_MFR_2808_2\n",
       "ppi                                                                    ND\n",
       "id_del_portafolio                                         CO1.BDOS.\u001b[1;36m915520\u001b[0m\n",
       "nombre_del_procedimiento                                       CMAMFR2808\n",
       "descripci_n_del_procedimiento                                  CMAMFR2808\n",
       "fase                                                          No Definido\n",
       "precio_base                                                            \u001b[1;36m-1\u001b[0m\n",
       "modalidad_de_contratacion         Concurso de méritos con precalificación\n",
       "justificaci_n_modalidad_de                               Ley \u001b[1;36m1150\u001b[0m de \u001b[1;36m2007\u001b[0m\n",
       "duracion                                                                \u001b[1;36m0\u001b[0m\n",
       "unidad_de_duracion                                                     ND\n",
       "ciudad_de_la_unidad_de                                        No definida\n",
       "nombre_de_la_unidad_de                                               CC01\n",
       "proveedores_invitados                                                   \u001b[1;36m0\u001b[0m\n",
       "proveedores_con_invitacion                                              \u001b[1;36m0\u001b[0m\n",
       "visualizaciones_del                                                     \u001b[1;36m0\u001b[0m\n",
       "proveedores_que_manifestaron                                            \u001b[1;36m0\u001b[0m\n",
       "respuestas_al_procedimiento                                             \u001b[1;36m0\u001b[0m\n",
       "respuestas_externas                                                     \u001b[1;36m0\u001b[0m\n",
       "conteo_de_respuestas_a_ofertas                                          \u001b[1;36m0\u001b[0m\n",
       "proveedores_unicos_con                                                  \u001b[1;36m0\u001b[0m\n",
       "numero_de_lotes                                                         \u001b[1;36m0\u001b[0m\n",
       "estado_del_procedimiento                                      No Definido\n",
       "id_estado_del_procedimiento                                           \u001b[1;36m110\u001b[0m\n",
       "adjudicado                                                             No\n",
       "id_adjudicacion                                             No Adjudicado\n",
       "codigoproveedor                                             No Adjudicado\n",
       "departamento_proveedor                                          No aplica\n",
       "ciudad_proveedor                                                No aplica\n",
       "valor_total_adjudicacion                                                \u001b[1;36m0\u001b[0m\n",
       "nombre_del_adjudicador                                      No Adjudicado\n",
       "nombre_del_proveedor                                        No Adjudicado\n",
       "nit_del_proveedor_adjudicado                                No Adjudicado\n",
       "codigo_principal_de_categoria                                 V1.\u001b[1;36m10101500\u001b[0m\n",
       "estado_de_apertura_del_proceso                                    Abierto\n",
       "tipo_de_contrato                                              Consultoría\n",
       "subtipo_de_contrato                                       No Especificado\n",
       "categorias_adicionales                                                 ND\n",
       "codigo_entidad                                                  \u001b[1;36m700003015\u001b[0m\n",
       "estadoresumen                                                 No Definido\n",
       "fecha_de_publicacion_del                                                 \n",
       "fecha_de_ultima_publicaci                                                \n",
       "fecha_de_publicacion_fase_3                                              \n",
       "fecha_de_recepcion_de                                                    \n",
       "fecha_de_apertura_efectiva                                               \n",
       "urlproceso                                                            NaN\n",
       "Name: \u001b[1;36m0\u001b[0m, dtype: object\n"
      ]
     },
     "metadata": {},
     "output_type": "display_data"
    },
    {
     "data": {
      "text/html": [
       "<pre style=\"white-space:pre;overflow-x:auto;line-height:normal;font-family:Menlo,'DejaVu Sans Mono',consolas,'Courier New',monospace\"><span style=\"font-weight: bold\">&lt;</span><span style=\"color: #ff00ff; text-decoration-color: #ff00ff; font-weight: bold\">IPython.core.display.Javascript</span><span style=\"color: #000000; text-decoration-color: #000000\"> object</span><span style=\"font-weight: bold\">&gt;</span>\n",
       "</pre>\n"
      ],
      "text/plain": [
       "\u001b[1m<\u001b[0m\u001b[1;95mIPython.core.display.Javascript\u001b[0m\u001b[39m object\u001b[0m\u001b[1m>\u001b[0m\n"
      ]
     },
     "metadata": {},
     "output_type": "display_data"
    },
    {
     "data": {
      "application/javascript": [
       "\n",
       "            setTimeout(function() {\n",
       "                var nbb_cell_id = 50;\n",
       "                var nbb_unformatted_code = \"results_df.iloc[0]\";\n",
       "                var nbb_formatted_code = \"results_df.iloc[0]\";\n",
       "                var nbb_cells = Jupyter.notebook.get_cells();\n",
       "                for (var i = 0; i < nbb_cells.length; ++i) {\n",
       "                    if (nbb_cells[i].input_prompt_number == nbb_cell_id) {\n",
       "                        if (nbb_cells[i].get_text() == nbb_unformatted_code) {\n",
       "                             nbb_cells[i].set_text(nbb_formatted_code);\n",
       "                        }\n",
       "                        break;\n",
       "                    }\n",
       "                }\n",
       "            }, 500);\n",
       "            "
      ]
     },
     "metadata": {},
     "output_type": "display_data"
    }
   ],
   "source": [
    "results_df.iloc[0]"
   ]
  },
  {
   "cell_type": "code",
   "execution_count": 51,
   "id": "5430e563",
   "metadata": {},
   "outputs": [
    {
     "data": {
      "text/html": [
       "<pre style=\"white-space:pre;overflow-x:auto;line-height:normal;font-family:Menlo,'DejaVu Sans Mono',consolas,'Courier New',monospace\"><span style=\"color: #800080; text-decoration-color: #800080; font-weight: bold\">dtype</span><span style=\"font-weight: bold\">(</span><span style=\"color: #008000; text-decoration-color: #008000\">'O'</span><span style=\"font-weight: bold\">)</span>\n",
       "</pre>\n"
      ],
      "text/plain": [
       "\u001b[1;35mdtype\u001b[0m\u001b[1m(\u001b[0m\u001b[32m'O'\u001b[0m\u001b[1m)\u001b[0m\n"
      ]
     },
     "metadata": {},
     "output_type": "display_data"
    },
    {
     "data": {
      "text/html": [
       "<pre style=\"white-space:pre;overflow-x:auto;line-height:normal;font-family:Menlo,'DejaVu Sans Mono',consolas,'Courier New',monospace\"><span style=\"font-weight: bold\">&lt;</span><span style=\"color: #ff00ff; text-decoration-color: #ff00ff; font-weight: bold\">IPython.core.display.Javascript</span><span style=\"color: #000000; text-decoration-color: #000000\"> object</span><span style=\"font-weight: bold\">&gt;</span>\n",
       "</pre>\n"
      ],
      "text/plain": [
       "\u001b[1m<\u001b[0m\u001b[1;95mIPython.core.display.Javascript\u001b[0m\u001b[39m object\u001b[0m\u001b[1m>\u001b[0m\n"
      ]
     },
     "metadata": {},
     "output_type": "display_data"
    },
    {
     "data": {
      "application/javascript": [
       "\n",
       "            setTimeout(function() {\n",
       "                var nbb_cell_id = 51;\n",
       "                var nbb_unformatted_code = \"results_df[\\\"proveedores_con_invitacion\\\"].dtype\";\n",
       "                var nbb_formatted_code = \"results_df[\\\"proveedores_con_invitacion\\\"].dtype\";\n",
       "                var nbb_cells = Jupyter.notebook.get_cells();\n",
       "                for (var i = 0; i < nbb_cells.length; ++i) {\n",
       "                    if (nbb_cells[i].input_prompt_number == nbb_cell_id) {\n",
       "                        if (nbb_cells[i].get_text() == nbb_unformatted_code) {\n",
       "                             nbb_cells[i].set_text(nbb_formatted_code);\n",
       "                        }\n",
       "                        break;\n",
       "                    }\n",
       "                }\n",
       "            }, 500);\n",
       "            "
      ]
     },
     "metadata": {},
     "output_type": "display_data"
    }
   ],
   "source": [
    "results_df[\"proveedores_con_invitacion\"].dtype"
   ]
  },
  {
   "cell_type": "code",
   "execution_count": 52,
   "id": "22c16d33",
   "metadata": {},
   "outputs": [
    {
     "data": {
      "text/html": [
       "<pre style=\"white-space:pre;overflow-x:auto;line-height:normal;font-family:Menlo,'DejaVu Sans Mono',consolas,'Courier New',monospace\">\n",
       "entidad                           object\n",
       "nit_entidad                       object\n",
       "departamento_entidad              object\n",
       "ciudad_entidad                    object\n",
       "ordenentidad                      object\n",
       "codigo_pci                        object\n",
       "id_del_proceso                    object\n",
       "referencia_del_proceso            object\n",
       "ppi                               object\n",
       "id_del_portafolio                 object\n",
       "nombre_del_procedimiento          object\n",
       "descripci_n_del_procedimiento     object\n",
       "fase                              object\n",
       "precio_base                       object\n",
       "modalidad_de_contratacion         object\n",
       "justificaci_n_modalidad_de        object\n",
       "duracion                          object\n",
       "unidad_de_duracion                object\n",
       "ciudad_de_la_unidad_de            object\n",
       "nombre_de_la_unidad_de            object\n",
       "proveedores_invitados             object\n",
       "proveedores_con_invitacion        object\n",
       "visualizaciones_del               object\n",
       "proveedores_que_manifestaron      object\n",
       "respuestas_al_procedimiento       object\n",
       "respuestas_externas               object\n",
       "conteo_de_respuestas_a_ofertas    object\n",
       "proveedores_unicos_con            object\n",
       "numero_de_lotes                   object\n",
       "estado_del_procedimiento          object\n",
       "id_estado_del_procedimiento       object\n",
       "adjudicado                        object\n",
       "id_adjudicacion                   object\n",
       "codigoproveedor                   object\n",
       "departamento_proveedor            object\n",
       "ciudad_proveedor                  object\n",
       "valor_total_adjudicacion          object\n",
       "nombre_del_adjudicador            object\n",
       "nombre_del_proveedor              object\n",
       "nit_del_proveedor_adjudicado      object\n",
       "codigo_principal_de_categoria     object\n",
       "estado_de_apertura_del_proceso    object\n",
       "tipo_de_contrato                  object\n",
       "subtipo_de_contrato               object\n",
       "categorias_adicionales            object\n",
       "codigo_entidad                    object\n",
       "estadoresumen                     object\n",
       "fecha_de_publicacion_del          object\n",
       "fecha_de_ultima_publicaci         object\n",
       "fecha_de_publicacion_fase_3       object\n",
       "fecha_de_recepcion_de             object\n",
       "fecha_de_apertura_efectiva        object\n",
       "urlproceso                        object\n",
       "dtype: object\n",
       "</pre>\n"
      ],
      "text/plain": [
       "\n",
       "entidad                           object\n",
       "nit_entidad                       object\n",
       "departamento_entidad              object\n",
       "ciudad_entidad                    object\n",
       "ordenentidad                      object\n",
       "codigo_pci                        object\n",
       "id_del_proceso                    object\n",
       "referencia_del_proceso            object\n",
       "ppi                               object\n",
       "id_del_portafolio                 object\n",
       "nombre_del_procedimiento          object\n",
       "descripci_n_del_procedimiento     object\n",
       "fase                              object\n",
       "precio_base                       object\n",
       "modalidad_de_contratacion         object\n",
       "justificaci_n_modalidad_de        object\n",
       "duracion                          object\n",
       "unidad_de_duracion                object\n",
       "ciudad_de_la_unidad_de            object\n",
       "nombre_de_la_unidad_de            object\n",
       "proveedores_invitados             object\n",
       "proveedores_con_invitacion        object\n",
       "visualizaciones_del               object\n",
       "proveedores_que_manifestaron      object\n",
       "respuestas_al_procedimiento       object\n",
       "respuestas_externas               object\n",
       "conteo_de_respuestas_a_ofertas    object\n",
       "proveedores_unicos_con            object\n",
       "numero_de_lotes                   object\n",
       "estado_del_procedimiento          object\n",
       "id_estado_del_procedimiento       object\n",
       "adjudicado                        object\n",
       "id_adjudicacion                   object\n",
       "codigoproveedor                   object\n",
       "departamento_proveedor            object\n",
       "ciudad_proveedor                  object\n",
       "valor_total_adjudicacion          object\n",
       "nombre_del_adjudicador            object\n",
       "nombre_del_proveedor              object\n",
       "nit_del_proveedor_adjudicado      object\n",
       "codigo_principal_de_categoria     object\n",
       "estado_de_apertura_del_proceso    object\n",
       "tipo_de_contrato                  object\n",
       "subtipo_de_contrato               object\n",
       "categorias_adicionales            object\n",
       "codigo_entidad                    object\n",
       "estadoresumen                     object\n",
       "fecha_de_publicacion_del          object\n",
       "fecha_de_ultima_publicaci         object\n",
       "fecha_de_publicacion_fase_3       object\n",
       "fecha_de_recepcion_de             object\n",
       "fecha_de_apertura_efectiva        object\n",
       "urlproceso                        object\n",
       "dtype: object\n"
      ]
     },
     "metadata": {},
     "output_type": "display_data"
    },
    {
     "data": {
      "text/html": [
       "<pre style=\"white-space:pre;overflow-x:auto;line-height:normal;font-family:Menlo,'DejaVu Sans Mono',consolas,'Courier New',monospace\"><span style=\"font-weight: bold\">&lt;</span><span style=\"color: #ff00ff; text-decoration-color: #ff00ff; font-weight: bold\">IPython.core.display.Javascript</span><span style=\"color: #000000; text-decoration-color: #000000\"> object</span><span style=\"font-weight: bold\">&gt;</span>\n",
       "</pre>\n"
      ],
      "text/plain": [
       "\u001b[1m<\u001b[0m\u001b[1;95mIPython.core.display.Javascript\u001b[0m\u001b[39m object\u001b[0m\u001b[1m>\u001b[0m\n"
      ]
     },
     "metadata": {},
     "output_type": "display_data"
    },
    {
     "data": {
      "application/javascript": [
       "\n",
       "            setTimeout(function() {\n",
       "                var nbb_cell_id = 52;\n",
       "                var nbb_unformatted_code = \"results_df.dtypes\";\n",
       "                var nbb_formatted_code = \"results_df.dtypes\";\n",
       "                var nbb_cells = Jupyter.notebook.get_cells();\n",
       "                for (var i = 0; i < nbb_cells.length; ++i) {\n",
       "                    if (nbb_cells[i].input_prompt_number == nbb_cell_id) {\n",
       "                        if (nbb_cells[i].get_text() == nbb_unformatted_code) {\n",
       "                             nbb_cells[i].set_text(nbb_formatted_code);\n",
       "                        }\n",
       "                        break;\n",
       "                    }\n",
       "                }\n",
       "            }, 500);\n",
       "            "
      ]
     },
     "metadata": {},
     "output_type": "display_data"
    }
   ],
   "source": [
    "results_df.dtypes"
   ]
  },
  {
   "cell_type": "code",
   "execution_count": null,
   "id": "786ab49f",
   "metadata": {},
   "outputs": [],
   "source": []
  },
  {
   "cell_type": "code",
   "execution_count": null,
   "id": "8a4a61b7",
   "metadata": {},
   "outputs": [],
   "source": []
  },
  {
   "cell_type": "code",
   "execution_count": null,
   "id": "a8f0a8f3",
   "metadata": {},
   "outputs": [],
   "source": []
  },
  {
   "cell_type": "code",
   "execution_count": null,
   "id": "3ace0dff",
   "metadata": {},
   "outputs": [],
   "source": []
  },
  {
   "cell_type": "code",
   "execution_count": 2,
   "id": "47487a89",
   "metadata": {},
   "outputs": [
    {
     "data": {
      "text/html": [
       "<pre style=\"white-space:pre;overflow-x:auto;line-height:normal;font-family:Menlo,'DejaVu Sans Mono',consolas,'Courier New',monospace\"><span style=\"color: #7fbfbf; text-decoration-color: #7fbfbf\">[07/14/22 14:33:33] </span><span style=\"color: #000080; text-decoration-color: #000080\">INFO    </span> Loading data from <span style=\"color: #008000; text-decoration-color: #008000\">'secop_2'</span> <span style=\"font-weight: bold\">(</span>SparkDataSet<span style=\"font-weight: bold\">)</span><span style=\"color: #808000; text-decoration-color: #808000\">...</span>                      <a href=\"file:///opt/homebrew/Caskroom/miniforge/base/envs/dm_project/lib/python3.10/site-packages/kedro/io/data_catalog.py\" target=\"_blank\"><span style=\"color: #7f7f7f; text-decoration-color: #7f7f7f\">data_catalog.py</span></a><span style=\"color: #7f7f7f; text-decoration-color: #7f7f7f\">:</span><a href=\"file:///opt/homebrew/Caskroom/miniforge/base/envs/dm_project/lib/python3.10/site-packages/kedro/io/data_catalog.py#343\" target=\"_blank\"><span style=\"color: #7f7f7f; text-decoration-color: #7f7f7f\">343</span></a>\n",
       "</pre>\n"
      ],
      "text/plain": [
       "\u001b[2;36m[07/14/22 14:33:33]\u001b[0m\u001b[2;36m \u001b[0m\u001b[34mINFO    \u001b[0m Loading data from \u001b[32m'secop_2'\u001b[0m \u001b[1m(\u001b[0mSparkDataSet\u001b[1m)\u001b[0m\u001b[33m...\u001b[0m                      \u001b]8;id=197008;file:///opt/homebrew/Caskroom/miniforge/base/envs/dm_project/lib/python3.10/site-packages/kedro/io/data_catalog.py\u001b\\\u001b[2mdata_catalog.py\u001b[0m\u001b]8;;\u001b\\\u001b[2m:\u001b[0m\u001b]8;id=356942;file:///opt/homebrew/Caskroom/miniforge/base/envs/dm_project/lib/python3.10/site-packages/kedro/io/data_catalog.py#343\u001b\\\u001b[2m343\u001b[0m\u001b]8;;\u001b\\\n"
      ]
     },
     "metadata": {},
     "output_type": "display_data"
    },
    {
     "name": "stderr",
     "output_type": "stream",
     "text": [
      "                                                                                \r"
     ]
    }
   ],
   "source": [
    "sec_2 = catalog.load('secop_2')"
   ]
  },
  {
   "cell_type": "code",
   "execution_count": 6,
   "id": "892f29a6",
   "metadata": {},
   "outputs": [],
   "source": [
    "from secop.pipelines.data_engineering.utilities import COLS_SEC_2"
   ]
  },
  {
   "cell_type": "code",
   "execution_count": 8,
   "id": "e5b1b43b",
   "metadata": {},
   "outputs": [
    {
     "data": {
      "text/html": [
       "<pre style=\"white-space:pre;overflow-x:auto;line-height:normal;font-family:Menlo,'DejaVu Sans Mono',consolas,'Courier New',monospace\"><span style=\"color: #008000; text-decoration-color: #008000\">'entidad, departamento_entidad, ciudad_entidad, ordenentidad, codigo_pci, id_del_proceso, referencia_del_proceso, ppi, nombre_del_procedimiento, descripci_n_del_procedimiento, fase, precio_base, modalidad_de_contratacion, duracion, unidad_de_duracion, ciudad_de_la_unidad_de, nombre_de_la_unidad_de, proveedores_invitados, proveedores_con_invitacion, visualizaciones_del, proveedores_que_manifestaron, respuestas_al_procedimiento, respuestas_externas, conteo_de_respuestas_a_ofertas, proveedores_unicos_con, estado_del_procedimiento, id_estado_del_procedimiento, adjudicado, id_adjudicacion, codigoproveedor, departamento_proveedor, ciudad_proveedor, valor_total_adjudicacion, nombre_del_adjudicador, nombre_del_proveedor, nit_del_proveedor_adjudicado, codigo_principal_de_categoria, estado_de_apertura_del_proceso, tipo_de_contrato, subtipo_de_contrato, categorias_adicionales, codigo_entidad, estadoresumen, fecha_de_publicacion_del, fecha_de_ultima_publicaci, fecha_de_publicacion_fase_3, fecha_de_recepcion_de, fecha_de_apertura_efectiva, nit_entidad'</span>\n",
       "</pre>\n"
      ],
      "text/plain": [
       "\u001b[32m'entidad, departamento_entidad, ciudad_entidad, ordenentidad, codigo_pci, id_del_proceso, referencia_del_proceso, ppi, nombre_del_procedimiento, descripci_n_del_procedimiento, fase, precio_base, modalidad_de_contratacion, duracion, unidad_de_duracion, ciudad_de_la_unidad_de, nombre_de_la_unidad_de, proveedores_invitados, proveedores_con_invitacion, visualizaciones_del, proveedores_que_manifestaron, respuestas_al_procedimiento, respuestas_externas, conteo_de_respuestas_a_ofertas, proveedores_unicos_con, estado_del_procedimiento, id_estado_del_procedimiento, adjudicado, id_adjudicacion, codigoproveedor, departamento_proveedor, ciudad_proveedor, valor_total_adjudicacion, nombre_del_adjudicador, nombre_del_proveedor, nit_del_proveedor_adjudicado, codigo_principal_de_categoria, estado_de_apertura_del_proceso, tipo_de_contrato, subtipo_de_contrato, categorias_adicionales, codigo_entidad, estadoresumen, fecha_de_publicacion_del, fecha_de_ultima_publicaci, fecha_de_publicacion_fase_3, fecha_de_recepcion_de, fecha_de_apertura_efectiva, nit_entidad'\u001b[0m\n"
      ]
     },
     "metadata": {},
     "output_type": "display_data"
    }
   ],
   "source": [
    "', '.join(COLS_SEC_2)"
   ]
  },
  {
   "cell_type": "code",
   "execution_count": null,
   "id": "7017b627",
   "metadata": {},
   "outputs": [],
   "source": []
  },
  {
   "cell_type": "code",
   "execution_count": null,
   "id": "a2cfac10",
   "metadata": {},
   "outputs": [],
   "source": []
  },
  {
   "cell_type": "code",
   "execution_count": 4,
   "id": "8df420b4",
   "metadata": {},
   "outputs": [
    {
     "data": {
      "text/html": [
       "<pre style=\"white-space:pre;overflow-x:auto;line-height:normal;font-family:Menlo,'DejaVu Sans Mono',consolas,'Courier New',monospace\">\n",
       "<span style=\"font-weight: bold\">[</span>\n",
       "    <span style=\"color: #008000; text-decoration-color: #008000\">'entidad'</span>,\n",
       "    <span style=\"color: #008000; text-decoration-color: #008000\">'departamento_entidad'</span>,\n",
       "    <span style=\"color: #008000; text-decoration-color: #008000\">'ciudad_entidad'</span>,\n",
       "    <span style=\"color: #008000; text-decoration-color: #008000\">'ordenentidad'</span>,\n",
       "    <span style=\"color: #008000; text-decoration-color: #008000\">'codigo_pci'</span>,\n",
       "    <span style=\"color: #008000; text-decoration-color: #008000\">'id_del_proceso'</span>,\n",
       "    <span style=\"color: #008000; text-decoration-color: #008000\">'referencia_del_proceso'</span>,\n",
       "    <span style=\"color: #008000; text-decoration-color: #008000\">'ppi'</span>,\n",
       "    <span style=\"color: #008000; text-decoration-color: #008000\">'id_del_portafolio'</span>,\n",
       "    <span style=\"color: #008000; text-decoration-color: #008000\">'nombre_del_procedimiento'</span>,\n",
       "    <span style=\"color: #008000; text-decoration-color: #008000\">'descripci_n_del_procedimiento'</span>,\n",
       "    <span style=\"color: #008000; text-decoration-color: #008000\">'fase'</span>,\n",
       "    <span style=\"color: #008000; text-decoration-color: #008000\">'precio_base'</span>,\n",
       "    <span style=\"color: #008000; text-decoration-color: #008000\">'modalidad_de_contratacion'</span>,\n",
       "    <span style=\"color: #008000; text-decoration-color: #008000\">'justificaci_n_modalidad_de'</span>,\n",
       "    <span style=\"color: #008000; text-decoration-color: #008000\">'duracion'</span>,\n",
       "    <span style=\"color: #008000; text-decoration-color: #008000\">'unidad_de_duracion'</span>,\n",
       "    <span style=\"color: #008000; text-decoration-color: #008000\">'ciudad_de_la_unidad_de'</span>,\n",
       "    <span style=\"color: #008000; text-decoration-color: #008000\">'nombre_de_la_unidad_de'</span>,\n",
       "    <span style=\"color: #008000; text-decoration-color: #008000\">'proveedores_invitados'</span>,\n",
       "    <span style=\"color: #008000; text-decoration-color: #008000\">'proveedores_con_invitacion'</span>,\n",
       "    <span style=\"color: #008000; text-decoration-color: #008000\">'visualizaciones_del'</span>,\n",
       "    <span style=\"color: #008000; text-decoration-color: #008000\">'proveedores_que_manifestaron'</span>,\n",
       "    <span style=\"color: #008000; text-decoration-color: #008000\">'respuestas_al_procedimiento'</span>,\n",
       "    <span style=\"color: #008000; text-decoration-color: #008000\">'respuestas_externas'</span>,\n",
       "    <span style=\"color: #008000; text-decoration-color: #008000\">'conteo_de_respuestas_a_ofertas'</span>,\n",
       "    <span style=\"color: #008000; text-decoration-color: #008000\">'proveedores_unicos_con'</span>,\n",
       "    <span style=\"color: #008000; text-decoration-color: #008000\">'numero_de_lotes'</span>,\n",
       "    <span style=\"color: #008000; text-decoration-color: #008000\">'estado_del_procedimiento'</span>,\n",
       "    <span style=\"color: #008000; text-decoration-color: #008000\">'id_estado_del_procedimiento'</span>,\n",
       "    <span style=\"color: #008000; text-decoration-color: #008000\">'adjudicado'</span>,\n",
       "    <span style=\"color: #008000; text-decoration-color: #008000\">'id_adjudicacion'</span>,\n",
       "    <span style=\"color: #008000; text-decoration-color: #008000\">'codigoproveedor'</span>,\n",
       "    <span style=\"color: #008000; text-decoration-color: #008000\">'departamento_proveedor'</span>,\n",
       "    <span style=\"color: #008000; text-decoration-color: #008000\">'ciudad_proveedor'</span>,\n",
       "    <span style=\"color: #008000; text-decoration-color: #008000\">'valor_total_adjudicacion'</span>,\n",
       "    <span style=\"color: #008000; text-decoration-color: #008000\">'nombre_del_adjudicador'</span>,\n",
       "    <span style=\"color: #008000; text-decoration-color: #008000\">'nombre_del_proveedor'</span>,\n",
       "    <span style=\"color: #008000; text-decoration-color: #008000\">'nit_del_proveedor_adjudicado'</span>,\n",
       "    <span style=\"color: #008000; text-decoration-color: #008000\">'codigo_principal_de_categoria'</span>,\n",
       "    <span style=\"color: #008000; text-decoration-color: #008000\">'estado_de_apertura_del_proceso'</span>,\n",
       "    <span style=\"color: #008000; text-decoration-color: #008000\">'tipo_de_contrato'</span>,\n",
       "    <span style=\"color: #008000; text-decoration-color: #008000\">'subtipo_de_contrato'</span>,\n",
       "    <span style=\"color: #008000; text-decoration-color: #008000\">'categorias_adicionales'</span>,\n",
       "    <span style=\"color: #008000; text-decoration-color: #008000\">'codigo_entidad'</span>,\n",
       "    <span style=\"color: #008000; text-decoration-color: #008000\">'estadoresumen'</span>,\n",
       "    <span style=\"color: #008000; text-decoration-color: #008000\">'fecha_de_publicacion_del'</span>,\n",
       "    <span style=\"color: #008000; text-decoration-color: #008000\">'fecha_de_ultima_publicaci'</span>,\n",
       "    <span style=\"color: #008000; text-decoration-color: #008000\">'fecha_de_publicacion_fase_3'</span>,\n",
       "    <span style=\"color: #008000; text-decoration-color: #008000\">'fecha_de_recepcion_de'</span>,\n",
       "    <span style=\"color: #008000; text-decoration-color: #008000\">'fecha_de_apertura_efectiva'</span>,\n",
       "    <span style=\"color: #008000; text-decoration-color: #008000\">'nit_entidad'</span>\n",
       "<span style=\"font-weight: bold\">]</span>\n",
       "</pre>\n"
      ],
      "text/plain": [
       "\n",
       "\u001b[1m[\u001b[0m\n",
       "    \u001b[32m'entidad'\u001b[0m,\n",
       "    \u001b[32m'departamento_entidad'\u001b[0m,\n",
       "    \u001b[32m'ciudad_entidad'\u001b[0m,\n",
       "    \u001b[32m'ordenentidad'\u001b[0m,\n",
       "    \u001b[32m'codigo_pci'\u001b[0m,\n",
       "    \u001b[32m'id_del_proceso'\u001b[0m,\n",
       "    \u001b[32m'referencia_del_proceso'\u001b[0m,\n",
       "    \u001b[32m'ppi'\u001b[0m,\n",
       "    \u001b[32m'id_del_portafolio'\u001b[0m,\n",
       "    \u001b[32m'nombre_del_procedimiento'\u001b[0m,\n",
       "    \u001b[32m'descripci_n_del_procedimiento'\u001b[0m,\n",
       "    \u001b[32m'fase'\u001b[0m,\n",
       "    \u001b[32m'precio_base'\u001b[0m,\n",
       "    \u001b[32m'modalidad_de_contratacion'\u001b[0m,\n",
       "    \u001b[32m'justificaci_n_modalidad_de'\u001b[0m,\n",
       "    \u001b[32m'duracion'\u001b[0m,\n",
       "    \u001b[32m'unidad_de_duracion'\u001b[0m,\n",
       "    \u001b[32m'ciudad_de_la_unidad_de'\u001b[0m,\n",
       "    \u001b[32m'nombre_de_la_unidad_de'\u001b[0m,\n",
       "    \u001b[32m'proveedores_invitados'\u001b[0m,\n",
       "    \u001b[32m'proveedores_con_invitacion'\u001b[0m,\n",
       "    \u001b[32m'visualizaciones_del'\u001b[0m,\n",
       "    \u001b[32m'proveedores_que_manifestaron'\u001b[0m,\n",
       "    \u001b[32m'respuestas_al_procedimiento'\u001b[0m,\n",
       "    \u001b[32m'respuestas_externas'\u001b[0m,\n",
       "    \u001b[32m'conteo_de_respuestas_a_ofertas'\u001b[0m,\n",
       "    \u001b[32m'proveedores_unicos_con'\u001b[0m,\n",
       "    \u001b[32m'numero_de_lotes'\u001b[0m,\n",
       "    \u001b[32m'estado_del_procedimiento'\u001b[0m,\n",
       "    \u001b[32m'id_estado_del_procedimiento'\u001b[0m,\n",
       "    \u001b[32m'adjudicado'\u001b[0m,\n",
       "    \u001b[32m'id_adjudicacion'\u001b[0m,\n",
       "    \u001b[32m'codigoproveedor'\u001b[0m,\n",
       "    \u001b[32m'departamento_proveedor'\u001b[0m,\n",
       "    \u001b[32m'ciudad_proveedor'\u001b[0m,\n",
       "    \u001b[32m'valor_total_adjudicacion'\u001b[0m,\n",
       "    \u001b[32m'nombre_del_adjudicador'\u001b[0m,\n",
       "    \u001b[32m'nombre_del_proveedor'\u001b[0m,\n",
       "    \u001b[32m'nit_del_proveedor_adjudicado'\u001b[0m,\n",
       "    \u001b[32m'codigo_principal_de_categoria'\u001b[0m,\n",
       "    \u001b[32m'estado_de_apertura_del_proceso'\u001b[0m,\n",
       "    \u001b[32m'tipo_de_contrato'\u001b[0m,\n",
       "    \u001b[32m'subtipo_de_contrato'\u001b[0m,\n",
       "    \u001b[32m'categorias_adicionales'\u001b[0m,\n",
       "    \u001b[32m'codigo_entidad'\u001b[0m,\n",
       "    \u001b[32m'estadoresumen'\u001b[0m,\n",
       "    \u001b[32m'fecha_de_publicacion_del'\u001b[0m,\n",
       "    \u001b[32m'fecha_de_ultima_publicaci'\u001b[0m,\n",
       "    \u001b[32m'fecha_de_publicacion_fase_3'\u001b[0m,\n",
       "    \u001b[32m'fecha_de_recepcion_de'\u001b[0m,\n",
       "    \u001b[32m'fecha_de_apertura_efectiva'\u001b[0m,\n",
       "    \u001b[32m'nit_entidad'\u001b[0m\n",
       "\u001b[1m]\u001b[0m\n"
      ]
     },
     "metadata": {},
     "output_type": "display_data"
    }
   ],
   "source": [
    "\n",
    "sec_2.columns"
   ]
  },
  {
   "cell_type": "code",
   "execution_count": null,
   "id": "30190d8e",
   "metadata": {},
   "outputs": [],
   "source": []
  }
 ],
 "metadata": {
  "kernelspec": {
   "display_name": "Kedro (secop)",
   "language": "python",
   "name": "kedro_secop"
  },
  "language_info": {
   "codemirror_mode": {
    "name": "ipython",
    "version": 3
   },
   "file_extension": ".py",
   "mimetype": "text/x-python",
   "name": "python",
   "nbconvert_exporter": "python",
   "pygments_lexer": "ipython3",
   "version": "3.10.5"
  }
 },
 "nbformat": 4,
 "nbformat_minor": 5
}
